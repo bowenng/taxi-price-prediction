{
 "cells": [
  {
   "cell_type": "code",
   "execution_count": 265,
   "metadata": {
    "pycharm": {
     "is_executing": false
    }
   },
   "outputs": [
    {
     "name": "stdout",
     "output_type": "stream",
     "text": [
      "1.13.1\n"
     ]
    }
   ],
   "source": [
    "import tensorflow as tf\n",
    "from tensorflow.feature_column import embedding_column, numeric_column, categorical_column_with_identity\n",
    "import pandas as pd\n",
    "import matplotlib.pyplot as plt\n",
    "print(tf.__version__)"
   ]
  },
  {
   "cell_type": "code",
   "execution_count": null,
   "metadata": {
    "pycharm": {
     "is_executing": false,
     "name": "#%%\n"
    }
   },
   "outputs": [],
   "source": [
    "TRAIN_PATH = \"/Users/bryanwu/Desktop/taxi_fare_prediction/new-york-city-taxi-fare-prediction/train.csv\"\n",
    "df = pd.read_csv(TRAIN_PATH, nrows=1_000_000, parse_dates=['pickup_datetime'])"
   ]
  },
  {
   "cell_type": "code",
   "execution_count": null,
   "metadata": {
    "pycharm": {
     "is_executing": false,
     "name": "#%%\n"
    }
   },
   "outputs": [],
   "source": [
    "def preprocess(df):\n",
    "    #remove negative fare_amount\n",
    "    df = df[df['fare_amount'] > 0]\n",
    "    \n",
    "    #remove missing values\n",
    "    df.dropna(how='any', axis='rows')\n",
    "    \n",
    "    #remove location outliers, ensuring locations are within the range seen in the train set\n",
    "    def select_within_boundingbox(df, BB=(-74.5, -72.8, 40.5, 41.8)):\n",
    "        return (df.pickup_longitude >= BB[0]) & (df.pickup_longitude <= BB[1]) & \\\n",
    "               (df.pickup_latitude >= BB[2]) & (df.pickup_latitude <= BB[3]) & \\\n",
    "               (df.dropoff_longitude >= BB[0]) & (df.dropoff_longitude <= BB[1]) & \\\n",
    "               (df.dropoff_latitude >= BB[2]) & (df.dropoff_latitude <= BB[3])\n",
    "    \n",
    "    df = df[select_within_boundingbox(df)]\n",
    "    \n",
    "    #remove trips in the water\n",
    "    def remove_datapoints_from_water(df):\n",
    "        def lonlat_to_xy(longitude, latitude, dx, dy, BB):\n",
    "            return (dx*(longitude - BB[0])/(BB[1]-BB[0])).astype('int'), \\\n",
    "                   (dy - dy*(latitude - BB[2])/(BB[3]-BB[2])).astype('int')\n",
    "\n",
    "        # define bounding box\n",
    "        BB = (-74.5, -72.8, 40.5, 41.8)\n",
    "\n",
    "        # read nyc mask and turn into boolean map with\n",
    "        # land = True, water = False\n",
    "        nyc_mask = plt.imread('https://aiblog.nl/download/nyc_mask-74.5_-72.8_40.5_41.8.png')[:,:,0] > 0.9\n",
    "\n",
    "        # calculate for each lon,lat coordinate the xy coordinate in the mask map\n",
    "        pickup_x, pickup_y = lonlat_to_xy(df.pickup_longitude, df.pickup_latitude, \n",
    "                                          nyc_mask.shape[1], nyc_mask.shape[0], BB)\n",
    "        dropoff_x, dropoff_y = lonlat_to_xy(df.dropoff_longitude, df.dropoff_latitude, \n",
    "                                          nyc_mask.shape[1], nyc_mask.shape[0], BB)    \n",
    "        # calculate boolean index\n",
    "        idx = nyc_mask[pickup_y, pickup_x] & nyc_mask[dropoff_y, dropoff_x]\n",
    "\n",
    "        # return only datapoints on land\n",
    "        return df[idx]\n",
    "    \n",
    "    df = remove_datapoints_from_water(df)\n",
    "    \n",
    "    #Step 2: preprocess features\n",
    "    weekday = df.pickup_datetime.apply(lambda t: t.weekday) \n",
    "    month = df.pickup_datetime.apply(lambda t: t.month) - 1\n",
    "    hour = df.pickup_datetime.apply(lambda t: t.hour)\n",
    "    minute = df.pickup_datetime.apply(lambda t: t.minute)\n",
    "    dayofyear= df.pickup_datetime.apply(lambda t: t.dayofyear)\n",
    "    nyc_mask = plt.imread('https://aiblog.nl/download/nyc_mask-74.5_-72.8_40.5_41.8.png')[:,:,0] > 0.9\n",
    "    #translate longitude/latitude coordinate into image xy coordinate\n",
    "    def lonlat_to_xy(longitude, latitude, dx=126, dy=124, BB=(-74.5, -72.8, 40.5, 41.8)):\n",
    "        return (dx*(longitude - BB[0])/(BB[1]-BB[0])).astype('int'), \\\n",
    "               (dy - dy*(latitude - BB[2])/(BB[3]-BB[2])).astype('int')\n",
    "    \n",
    "    pickup_x, pickup_y = lonlat_to_xy(df.pickup_longitude, df.pickup_latitude)\n",
    "    dropoff_x, dropoff_y = lonlat_to_xy(df.dropoff_longitude, df.dropoff_latitude)\n",
    "    \n",
    "    #keep numeric feature only\n",
    "    df.pop('pickup_datetime')\n",
    "    df.pop('key')\n",
    "    df.pop('passenger_count')\n",
    "    df['time_in_day'] = hour*60.0 + minute\n",
    "    df['pickup_x'] = pickup_x\n",
    "    df['pickup_y'] = pickup_y\n",
    "    df['dropoff_x'] = dropoff_x\n",
    "    df['dropoff_y'] = dropoff_y\n",
    "    \n",
    "    #normalize df\n",
    "    mean = df.mean()\n",
    "    std = df.std()\n",
    "    #df = (df-mean)/std\n",
    "    #add new categorical columns\n",
    "    df['weekday'] = weekday\n",
    "    df['month'] = month\n",
    "    df['hour'] = hour\n",
    "    df['minute'] = minute\n",
    "    df['dayofyear'] = dayofyear\n",
    "    \n",
    "    \n",
    "    return df, (mean, std)\n",
    "    "
   ]
  },
  {
   "cell_type": "code",
   "execution_count": null,
   "metadata": {},
   "outputs": [],
   "source": [
    "df.describe()"
   ]
  },
  {
   "cell_type": "code",
   "execution_count": null,
   "metadata": {},
   "outputs": [],
   "source": [
    "df.dtypes"
   ]
  },
  {
   "cell_type": "code",
   "execution_count": null,
   "metadata": {
    "pycharm": {
     "is_executing": false,
     "name": "#%%\n"
    }
   },
   "outputs": [],
   "source": [
    "df, (mean, std) = preprocess(df)\n",
    "target = df.pop('fare_amount')\n",
    "df.head()"
   ]
  },
  {
   "cell_type": "code",
   "execution_count": null,
   "metadata": {
    "pycharm": {
     "is_executing": false,
     "name": "#%%\n"
    }
   },
   "outputs": [],
   "source": [
    "df.describe()"
   ]
  },
  {
   "cell_type": "code",
   "execution_count": null,
   "metadata": {
    "pycharm": {
     "is_executing": false,
     "name": "#%%\n"
    }
   },
   "outputs": [],
   "source": [
    "input_fn_train = tf.estimator.inputs.pandas_input_fn(x=df, y=target, batch_size=16, num_epochs=100, shuffle=True, target_column=\"fare_amount\")"
   ]
  },
  {
   "cell_type": "code",
   "execution_count": null,
   "metadata": {},
   "outputs": [],
   "source": [
    "def build_feature_columns():\n",
    "    pickup_longitude = tf.feature_column.numeric_column('pickup_longitude')\n",
    "    pickup_latitude = tf.feature_column.numeric_column('pickup_latitude')\n",
    "    dropoff_longitude = tf.feature_column.numeric_column('dropoff_longitude')\n",
    "    dropoff_latitude = tf.feature_column.numeric_column('dropoff_latitude')\n",
    "    \n",
    "    base_columns = [\n",
    "        tf.feature_column.categorical_column_with_identity('month', 12),\n",
    "        tf.feature_column.categorical_column_with_identity('hour', 24),\n",
    "        tf.feature_column.categorical_column_with_identity('weekday', 7),\n",
    "        tf.feature_column.bucketized_column(tf.feature_column.numeric_column('minute'), list(range(0,60,10)))\n",
    "    ]\n",
    "    \n",
    "    pickup_x = tf.feature_column.categorical_column_with_identity('pickup_x', 126)\n",
    "    pickup_y = tf.feature_column.categorical_column_with_identity('pickup_y', 124)\n",
    "    dropoff_x = tf.feature_column.categorical_column_with_identity('dropoff_x', 126)\n",
    "    dropoff_y = tf.feature_column.categorical_column_with_identity('dropoff_y', 124)\n",
    "    \n",
    "    cross_columns = [\n",
    "        tf.feature_column.crossed_column([pickup_x, pickup_y], 126*124),\n",
    "        tf.feature_column.crossed_column([dropoff_x, dropoff_y], 126*124)\n",
    "    ]\n",
    "    \n",
    "    wide_columns = base_columns + cross_columns\n",
    "    \n",
    "    time_in_day = tf.feature_column.numeric_column('time_in_day')\n",
    "    dayofyear = tf.feature_column.bucketized_column(tf.feature_column.numeric_column('dayofyear'), list(range(1, 365, 7)))\n",
    "    deep_columns = [\n",
    "        tf.feature_column.numeric_column('pickup_longitude'),\n",
    "        tf.feature_column.numeric_column('pickup_latitude'),\n",
    "        tf.feature_column.numeric_column('dropoff_longitude'),\n",
    "        tf.feature_column.numeric_column('dropoff_latitude'),\n",
    "        embedding_column(dayofyear, dimension=16),\n",
    "        embedding_column(tf.feature_column.bucketized_column(time_in_day, boundaries=list(range(0,24*60, 15))), dimension=32)\n",
    "    ]\n",
    "    \n",
    "    return wide_columns, deep_columns"
   ]
  },
  {
   "cell_type": "code",
   "execution_count": null,
   "metadata": {
    "pycharm": {
     "is_executing": false,
     "name": "#%%\n"
    }
   },
   "outputs": [],
   "source": [
    "# feature_columns = [\n",
    "#     tf.feature_column.numeric_column('pickup_longitude'),\n",
    "#     tf.feature_column.numeric_column('pickup_latitude'),\n",
    "#     tf.feature_column.numeric_column('dropoff_longitude'),\n",
    "#     tf.feature_column.numeric_column('dropoff_latitude'),\n",
    "#     tf.feature_column.numeric_column('passenger_count'),\n",
    "#     embedding_column(categorical_column_with_identity('weekday', num_buckets=7), dimension=3),\n",
    "#     embedding_column(categorical_column_with_identity('month', num_buckets=12), dimension=3),\n",
    "#     embedding_column(categorical_column_with_identity('hour', num_buckets=24), dimension=5)\n",
    "# ]\n",
    "# feature_columns"
   ]
  },
  {
   "cell_type": "code",
   "execution_count": null,
   "metadata": {},
   "outputs": [],
   "source": [
    "# wide_columns, deep_columns = build_feature_columns()\n",
    "# print(wide_columns, deep_columns)"
   ]
  },
  {
   "cell_type": "code",
   "execution_count": null,
   "metadata": {},
   "outputs": [],
   "source": [
    "def build_estimator(fc_fn):\n",
    "    wide_columns, deep_columns = fc_fn()\n",
    "    hidden_units = [100, 75, 50, 25]\n",
    "    return tf.estimator.DNNLinearCombinedRegressor(\n",
    "        linear_feature_columns=wide_columns,\n",
    "        dnn_feature_columns=deep_columns,\n",
    "        dnn_hidden_units=hidden_units)\n",
    "est = build_estimator(build_feature_columns)"
   ]
  },
  {
   "cell_type": "code",
   "execution_count": null,
   "metadata": {
    "pycharm": {
     "is_executing": false,
     "name": "#%%\n"
    }
   },
   "outputs": [],
   "source": [
    "# est = tf.estimator.DNNRegressor(\n",
    "#     feature_columns=feature_columns, \n",
    "#     hidden_units=[1024, 512, 256],\n",
    "#     optimizer=tf.train.AdamOptimizer()\n",
    "# )\n",
    "\n"
   ]
  },
  {
   "cell_type": "code",
   "execution_count": null,
   "metadata": {
    "pycharm": {
     "is_executing": false,
     "name": "#%%\n"
    }
   },
   "outputs": [],
   "source": [
    "est.train(input_fn=input_fn_train)\n"
   ]
  },
  {
   "cell_type": "code",
   "execution_count": 376,
   "metadata": {},
   "outputs": [],
   "source": [
    "TEST_PATH = \"/Users/bryanwu/Desktop/taxi_fare_prediction/new-york-city-taxi-fare-prediction/train.csv\"\n",
    "df_test = pd.read_csv(TEST_PATH, skiprows=range(1,1_000_000), parse_dates=['pickup_datetime'], nrows=2000)\n",
    "df_test.head()\n",
    "df_test, _ = preprocess(df_test)\n",
    "target_test = df_test.pop('fare_amount')"
   ]
  },
  {
   "cell_type": "code",
   "execution_count": 245,
   "metadata": {
    "pycharm": {
     "name": "#%%\n"
    }
   },
   "outputs": [],
   "source": [
    "input_fn_test = tf.estimator.inputs.pandas_input_fn(x=df_test, \n",
    "                                                     y=target_test,  \n",
    "                                                    shuffle=False,\n",
    "                                                    batch_size=2000,\n",
    "                                                     target_column=\"fare_amount\"\n",
    "                                                    )"
   ]
  },
  {
   "cell_type": "code",
   "execution_count": 246,
   "metadata": {},
   "outputs": [],
   "source": [
    "predictions = est.predict(\n",
    "    input_fn_test,\n",
    "    predict_keys=None,\n",
    "    hooks=None,\n",
    "    checkpoint_path=None,\n",
    "    yield_single_examples=False\n",
    ")"
   ]
  },
  {
   "cell_type": "code",
   "execution_count": 247,
   "metadata": {},
   "outputs": [
    {
     "name": "stdout",
     "output_type": "stream",
     "text": [
      "INFO:tensorflow:Calling model_fn.\n",
      "INFO:tensorflow:Done calling model_fn.\n",
      "INFO:tensorflow:Graph was finalized.\n",
      "INFO:tensorflow:Restoring parameters from /var/folders/wt/dv0qlxcn5j9b0h9vd8tr23bh0000gn/T/tmpg2bqngsi/model.ckpt-30582\n",
      "INFO:tensorflow:Running local_init_op.\n",
      "INFO:tensorflow:Done running local_init_op.\n"
     ]
    }
   ],
   "source": [
    "predictions = list(predictions)[0]"
   ]
  },
  {
   "cell_type": "code",
   "execution_count": 248,
   "metadata": {},
   "outputs": [
    {
     "data": {
      "text/plain": [
       "{'predictions': array([[-0.6139192 ],\n",
       "        [ 0.16843894],\n",
       "        [-0.6945644 ],\n",
       "        ...,\n",
       "        [-0.44352132],\n",
       "        [ 0.10787749],\n",
       "        [ 0.9651627 ]], dtype=float32)}"
      ]
     },
     "execution_count": 248,
     "metadata": {},
     "output_type": "execute_result"
    }
   ],
   "source": [
    "predictions"
   ]
  },
  {
   "cell_type": "code",
   "execution_count": 249,
   "metadata": {},
   "outputs": [],
   "source": [
    "predictions = predictions['predictions']"
   ]
  },
  {
   "cell_type": "code",
   "execution_count": 250,
   "metadata": {},
   "outputs": [
    {
     "data": {
      "text/plain": [
       "array([[-0.6139192 ],\n",
       "       [ 0.16843894],\n",
       "       [-0.6945644 ],\n",
       "       ...,\n",
       "       [-0.44352132],\n",
       "       [ 0.10787749],\n",
       "       [ 0.9651627 ]], dtype=float32)"
      ]
     },
     "execution_count": 250,
     "metadata": {},
     "output_type": "execute_result"
    }
   ],
   "source": [
    "predictions"
   ]
  },
  {
   "cell_type": "code",
   "execution_count": 251,
   "metadata": {},
   "outputs": [
    {
     "data": {
      "text/plain": [
       "fare_amount          9.714552\n",
       "pickup_longitude     0.038417\n",
       "pickup_latitude      0.029505\n",
       "dropoff_longitude    0.037575\n",
       "dropoff_latitude     0.032689\n",
       "passenger_count      1.307707\n",
       "dtype: float32"
      ]
     },
     "execution_count": 251,
     "metadata": {},
     "output_type": "execute_result"
    }
   ],
   "source": [
    "mean.astype('float32')\n",
    "std.astype('float32')"
   ]
  },
  {
   "cell_type": "code",
   "execution_count": 252,
   "metadata": {},
   "outputs": [],
   "source": [
    "predictions = predictions*std['fare_amount']+mean['fare_amount']"
   ]
  },
  {
   "cell_type": "code",
   "execution_count": 253,
   "metadata": {},
   "outputs": [
    {
     "data": {
      "text/plain": [
       "array([[ 5.3654404],\n",
       "       [12.965699 ],\n",
       "       [ 4.5820084],\n",
       "       ...,\n",
       "       [ 7.0207796],\n",
       "       [12.377372 ],\n",
       "       [20.705513 ]], dtype=float32)"
      ]
     },
     "execution_count": 253,
     "metadata": {},
     "output_type": "execute_result"
    }
   ],
   "source": [
    "predictions"
   ]
  },
  {
   "cell_type": "code",
   "execution_count": 254,
   "metadata": {},
   "outputs": [
    {
     "data": {
      "text/plain": [
       "1967"
      ]
     },
     "execution_count": 254,
     "metadata": {},
     "output_type": "execute_result"
    }
   ],
   "source": [
    "len(predictions)"
   ]
  },
  {
   "cell_type": "code",
   "execution_count": 255,
   "metadata": {},
   "outputs": [
    {
     "data": {
      "text/plain": [
       "<tf.Tensor 'add:0' shape=(1967,) dtype=float32>"
      ]
     },
     "execution_count": 255,
     "metadata": {},
     "output_type": "execute_result"
    }
   ],
   "source": [
    "target_test_tensor = tf.dtypes.cast(tf.constant(target_test), tf.float32)*std['fare_amount']+mean['fare_amount']\n",
    "target_test_tensor"
   ]
  },
  {
   "cell_type": "code",
   "execution_count": 256,
   "metadata": {},
   "outputs": [
    {
     "data": {
      "text/plain": [
       "(1967,)"
      ]
     },
     "execution_count": 256,
     "metadata": {},
     "output_type": "execute_result"
    }
   ],
   "source": [
    "import numpy as np\n",
    "target_test_tensor.shape\n",
    "np.squeeze(predictions).shape"
   ]
  },
  {
   "cell_type": "code",
   "execution_count": 257,
   "metadata": {},
   "outputs": [],
   "source": [
    "rsme = tf.metrics.mean_squared_error(labels=target_test_tensor, predictions=predictions)"
   ]
  },
  {
   "cell_type": "code",
   "execution_count": 258,
   "metadata": {},
   "outputs": [],
   "source": [
    "from tensorflow import keras\n",
    "rsme = keras.losses.mean_squared_error(np.squeeze(predictions), target_test_tensor)"
   ]
  },
  {
   "cell_type": "code",
   "execution_count": 259,
   "metadata": {},
   "outputs": [],
   "source": [
    "session = tf.Session()"
   ]
  },
  {
   "cell_type": "code",
   "execution_count": 264,
   "metadata": {},
   "outputs": [
    {
     "data": {
      "text/plain": [
       "6.5826764"
      ]
     },
     "execution_count": 264,
     "metadata": {},
     "output_type": "execute_result"
    }
   ],
   "source": [
    "np.sqrt(session.run(rsme))"
   ]
  },
  {
   "cell_type": "code",
   "execution_count": 261,
   "metadata": {},
   "outputs": [
    {
     "data": {
      "text/plain": [
       "array([ 3.9167438, 10.309787 ,  3.490541 , 11.268743 ,  6.9001637,\n",
       "       21.39106  , 17.129032 ,  5.6215553, 22.456568 ,  6.9001637],\n",
       "      dtype=float32)"
      ]
     },
     "execution_count": 261,
     "metadata": {},
     "output_type": "execute_result"
    }
   ],
   "source": [
    "sess.run(target_test_tensor[:10])"
   ]
  },
  {
   "cell_type": "code",
   "execution_count": 263,
   "metadata": {},
   "outputs": [
    {
     "data": {
      "text/plain": [
       "array([[ 5.3654404],\n",
       "       [12.965699 ],\n",
       "       [ 4.5820084],\n",
       "       [10.853432 ],\n",
       "       [ 8.89147  ],\n",
       "       [22.39938  ],\n",
       "       [14.651457 ],\n",
       "       [ 6.934065 ],\n",
       "       [12.235401 ],\n",
       "       [ 4.8407574]], dtype=float32)"
      ]
     },
     "execution_count": 263,
     "metadata": {},
     "output_type": "execute_result"
    }
   ],
   "source": [
    "predictions[:10]"
   ]
  },
  {
   "cell_type": "code",
   "execution_count": null,
   "metadata": {},
   "outputs": [],
   "source": []
  }
 ],
 "metadata": {
  "kernelspec": {
   "display_name": "PyCharm (taxi_fare_prediction)",
   "language": "python",
   "name": "pycharm-17e93d43"
  },
  "language_info": {
   "codemirror_mode": {
    "name": "ipython",
    "version": 3
   },
   "file_extension": ".py",
   "mimetype": "text/x-python",
   "name": "python",
   "nbconvert_exporter": "python",
   "pygments_lexer": "ipython3",
   "version": "3.7.3"
  },
  "pycharm": {
   "stem_cell": {
    "cell_type": "raw",
    "metadata": {
     "collapsed": false
    },
    "source": []
   }
  }
 },
 "nbformat": 4,
 "nbformat_minor": 1
}
