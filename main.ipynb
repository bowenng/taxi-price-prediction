{
 "cells": [
  {
   "cell_type": "code",
   "execution_count": 79,
   "metadata": {
    "pycharm": {
     "is_executing": false
    }
   },
   "outputs": [
    {
     "name": "stdout",
     "output_type": "stream",
     "text": [
      "1.13.1\n"
     ]
    }
   ],
   "source": [
    "import tensorflow as tf\n",
    "from tensorflow.feature_column import embedding_column, numeric_column, categorical_column_with_identity\n",
    "import pandas as pd\n",
    "import matplotlib.pyplot as plt\n",
    "print(tf.__version__)"
   ]
  },
  {
   "cell_type": "code",
   "execution_count": 80,
   "metadata": {
    "pycharm": {
     "is_executing": false,
     "name": "#%%\n"
    }
   },
   "outputs": [],
   "source": [
    "TRAIN_PATH = \"/Users/bryanwu/Desktop/taxi_fare_prediction/new-york-city-taxi-fare-prediction/train.csv\"\n",
    "df = pd.read_csv(TRAIN_PATH, nrows=1_000_000, parse_dates=['pickup_datetime'])"
   ]
  },
  {
   "cell_type": "code",
   "execution_count": 81,
   "metadata": {
    "pycharm": {
     "is_executing": false,
     "name": "#%%\n"
    }
   },
   "outputs": [],
   "source": [
    "def preprocess(df):\n",
    "    #remove negative fare_amount\n",
    "    df = df[df['fare_amount'] > 0]\n",
    "    \n",
    "    #remove missing values\n",
    "    df.dropna(how='any', axis='rows')\n",
    "    \n",
    "    #remove location outliers, ensuring locations are within the range seen in the train set\n",
    "    def select_within_boundingbox(df, BB=(-74.5, -72.8, 40.5, 41.8)):\n",
    "        return (df.pickup_longitude >= BB[0]) & (df.pickup_longitude <= BB[1]) & \\\n",
    "               (df.pickup_latitude >= BB[2]) & (df.pickup_latitude <= BB[3]) & \\\n",
    "               (df.dropoff_longitude >= BB[0]) & (df.dropoff_longitude <= BB[1]) & \\\n",
    "               (df.dropoff_latitude >= BB[2]) & (df.dropoff_latitude <= BB[3])\n",
    "    \n",
    "    df = df[select_within_boundingbox(df)]\n",
    "    \n",
    "    #remove trips in the water\n",
    "    def remove_datapoints_from_water(df):\n",
    "        def lonlat_to_xy(longitude, latitude, dx, dy, BB):\n",
    "            return (dx*(longitude - BB[0])/(BB[1]-BB[0])).astype('int'), \\\n",
    "                   (dy - dy*(latitude - BB[2])/(BB[3]-BB[2])).astype('int')\n",
    "\n",
    "        # define bounding box\n",
    "        BB = (-74.5, -72.8, 40.5, 41.8)\n",
    "\n",
    "        # read nyc mask and turn into boolean map with\n",
    "        # land = True, water = False\n",
    "        nyc_mask = plt.imread('https://aiblog.nl/download/nyc_mask-74.5_-72.8_40.5_41.8.png')[:,:,0] > 0.9\n",
    "\n",
    "        # calculate for each lon,lat coordinate the xy coordinate in the mask map\n",
    "        pickup_x, pickup_y = lonlat_to_xy(df.pickup_longitude, df.pickup_latitude, \n",
    "                                          nyc_mask.shape[1], nyc_mask.shape[0], BB)\n",
    "        dropoff_x, dropoff_y = lonlat_to_xy(df.dropoff_longitude, df.dropoff_latitude, \n",
    "                                          nyc_mask.shape[1], nyc_mask.shape[0], BB)    \n",
    "        # calculate boolean index\n",
    "        idx = nyc_mask[pickup_y, pickup_x] & nyc_mask[dropoff_y, dropoff_x]\n",
    "\n",
    "        # return only datapoints on land\n",
    "        return df[idx]\n",
    "    \n",
    "    df = remove_datapoints_from_water(df)\n",
    "    \n",
    "    #Step 2: preprocess features\n",
    "    weekday = df.pickup_datetime.apply(lambda t: t.weekday) \n",
    "    month = df.pickup_datetime.apply(lambda t: t.month) - 1\n",
    "    hour = df.pickup_datetime.apply(lambda t: t.hour)\n",
    "    \n",
    "    #normalize continuous features\n",
    "    df.pop('pickup_datetime')\n",
    "    df.pop('key')\n",
    "    mean = df.mean()\n",
    "    std = df.std()\n",
    "    df = (df-mean)/std\n",
    "    #add new categorical columns\n",
    "    df['weekday'] = weekday\n",
    "    df['month'] = month\n",
    "    df['hour'] = hour\n",
    "    #drop pickup_datetime\n",
    "    #drop key\n",
    "    \n",
    "    return df, (mean, std)\n",
    "    "
   ]
  },
  {
   "cell_type": "code",
   "execution_count": 82,
   "metadata": {},
   "outputs": [
    {
     "data": {
      "text/html": [
       "<div>\n",
       "<style scoped>\n",
       "    .dataframe tbody tr th:only-of-type {\n",
       "        vertical-align: middle;\n",
       "    }\n",
       "\n",
       "    .dataframe tbody tr th {\n",
       "        vertical-align: top;\n",
       "    }\n",
       "\n",
       "    .dataframe thead th {\n",
       "        text-align: right;\n",
       "    }\n",
       "</style>\n",
       "<table border=\"1\" class=\"dataframe\">\n",
       "  <thead>\n",
       "    <tr style=\"text-align: right;\">\n",
       "      <th></th>\n",
       "      <th>fare_amount</th>\n",
       "      <th>pickup_longitude</th>\n",
       "      <th>pickup_latitude</th>\n",
       "      <th>dropoff_longitude</th>\n",
       "      <th>dropoff_latitude</th>\n",
       "      <th>passenger_count</th>\n",
       "    </tr>\n",
       "  </thead>\n",
       "  <tbody>\n",
       "    <tr>\n",
       "      <th>count</th>\n",
       "      <td>1000000.000000</td>\n",
       "      <td>1000000.000000</td>\n",
       "      <td>1000000.000000</td>\n",
       "      <td>999990.000000</td>\n",
       "      <td>999990.000000</td>\n",
       "      <td>1000000.000000</td>\n",
       "    </tr>\n",
       "    <tr>\n",
       "      <th>mean</th>\n",
       "      <td>11.348079</td>\n",
       "      <td>-72.526640</td>\n",
       "      <td>39.929008</td>\n",
       "      <td>-72.527860</td>\n",
       "      <td>39.919954</td>\n",
       "      <td>1.684924</td>\n",
       "    </tr>\n",
       "    <tr>\n",
       "      <th>std</th>\n",
       "      <td>9.822090</td>\n",
       "      <td>12.057937</td>\n",
       "      <td>7.626154</td>\n",
       "      <td>11.324494</td>\n",
       "      <td>8.201418</td>\n",
       "      <td>1.323911</td>\n",
       "    </tr>\n",
       "    <tr>\n",
       "      <th>min</th>\n",
       "      <td>-44.900000</td>\n",
       "      <td>-3377.680935</td>\n",
       "      <td>-3116.285383</td>\n",
       "      <td>-3383.296608</td>\n",
       "      <td>-3114.338567</td>\n",
       "      <td>0.000000</td>\n",
       "    </tr>\n",
       "    <tr>\n",
       "      <th>25%</th>\n",
       "      <td>6.000000</td>\n",
       "      <td>-73.992060</td>\n",
       "      <td>40.734965</td>\n",
       "      <td>-73.991385</td>\n",
       "      <td>40.734046</td>\n",
       "      <td>1.000000</td>\n",
       "    </tr>\n",
       "    <tr>\n",
       "      <th>50%</th>\n",
       "      <td>8.500000</td>\n",
       "      <td>-73.981792</td>\n",
       "      <td>40.752695</td>\n",
       "      <td>-73.980135</td>\n",
       "      <td>40.753166</td>\n",
       "      <td>1.000000</td>\n",
       "    </tr>\n",
       "    <tr>\n",
       "      <th>75%</th>\n",
       "      <td>12.500000</td>\n",
       "      <td>-73.967094</td>\n",
       "      <td>40.767154</td>\n",
       "      <td>-73.963654</td>\n",
       "      <td>40.768129</td>\n",
       "      <td>2.000000</td>\n",
       "    </tr>\n",
       "    <tr>\n",
       "      <th>max</th>\n",
       "      <td>500.000000</td>\n",
       "      <td>2522.271325</td>\n",
       "      <td>2621.628430</td>\n",
       "      <td>45.581619</td>\n",
       "      <td>1651.553433</td>\n",
       "      <td>208.000000</td>\n",
       "    </tr>\n",
       "  </tbody>\n",
       "</table>\n",
       "</div>"
      ],
      "text/plain": [
       "          fare_amount  pickup_longitude  pickup_latitude  dropoff_longitude  \\\n",
       "count  1000000.000000    1000000.000000   1000000.000000      999990.000000   \n",
       "mean        11.348079        -72.526640        39.929008         -72.527860   \n",
       "std          9.822090         12.057937         7.626154          11.324494   \n",
       "min        -44.900000      -3377.680935     -3116.285383       -3383.296608   \n",
       "25%          6.000000        -73.992060        40.734965         -73.991385   \n",
       "50%          8.500000        -73.981792        40.752695         -73.980135   \n",
       "75%         12.500000        -73.967094        40.767154         -73.963654   \n",
       "max        500.000000       2522.271325      2621.628430          45.581619   \n",
       "\n",
       "       dropoff_latitude  passenger_count  \n",
       "count     999990.000000   1000000.000000  \n",
       "mean          39.919954         1.684924  \n",
       "std            8.201418         1.323911  \n",
       "min        -3114.338567         0.000000  \n",
       "25%           40.734046         1.000000  \n",
       "50%           40.753166         1.000000  \n",
       "75%           40.768129         2.000000  \n",
       "max         1651.553433       208.000000  "
      ]
     },
     "execution_count": 82,
     "metadata": {},
     "output_type": "execute_result"
    }
   ],
   "source": [
    "df.describe()"
   ]
  },
  {
   "cell_type": "code",
   "execution_count": 83,
   "metadata": {},
   "outputs": [
    {
     "data": {
      "text/plain": [
       "key                               object\n",
       "fare_amount                      float64\n",
       "pickup_datetime      datetime64[ns, UTC]\n",
       "pickup_longitude                 float64\n",
       "pickup_latitude                  float64\n",
       "dropoff_longitude                float64\n",
       "dropoff_latitude                 float64\n",
       "passenger_count                    int64\n",
       "dtype: object"
      ]
     },
     "execution_count": 83,
     "metadata": {},
     "output_type": "execute_result"
    }
   ],
   "source": [
    "df.dtypes"
   ]
  },
  {
   "cell_type": "code",
   "execution_count": 84,
   "metadata": {
    "pycharm": {
     "is_executing": false,
     "name": "#%%\n"
    }
   },
   "outputs": [
    {
     "data": {
      "text/html": [
       "<div>\n",
       "<style scoped>\n",
       "    .dataframe tbody tr th:only-of-type {\n",
       "        vertical-align: middle;\n",
       "    }\n",
       "\n",
       "    .dataframe tbody tr th {\n",
       "        vertical-align: top;\n",
       "    }\n",
       "\n",
       "    .dataframe thead th {\n",
       "        text-align: right;\n",
       "    }\n",
       "</style>\n",
       "<table border=\"1\" class=\"dataframe\">\n",
       "  <thead>\n",
       "    <tr style=\"text-align: right;\">\n",
       "      <th></th>\n",
       "      <th>pickup_longitude</th>\n",
       "      <th>pickup_latitude</th>\n",
       "      <th>dropoff_longitude</th>\n",
       "      <th>dropoff_latitude</th>\n",
       "      <th>passenger_count</th>\n",
       "      <th>weekday</th>\n",
       "      <th>month</th>\n",
       "      <th>hour</th>\n",
       "    </tr>\n",
       "  </thead>\n",
       "  <tbody>\n",
       "    <tr>\n",
       "      <th>0</th>\n",
       "      <td>3.404932</td>\n",
       "      <td>-1.010390</td>\n",
       "      <td>3.529462</td>\n",
       "      <td>-1.198895</td>\n",
       "      <td>-0.523820</td>\n",
       "      <td>0</td>\n",
       "      <td>5</td>\n",
       "      <td>17</td>\n",
       "    </tr>\n",
       "    <tr>\n",
       "      <th>1</th>\n",
       "      <td>-1.065424</td>\n",
       "      <td>-1.349859</td>\n",
       "      <td>-0.134046</td>\n",
       "      <td>0.934117</td>\n",
       "      <td>-0.523820</td>\n",
       "      <td>1</td>\n",
       "      <td>0</td>\n",
       "      <td>16</td>\n",
       "    </tr>\n",
       "    <tr>\n",
       "      <th>2</th>\n",
       "      <td>-0.198357</td>\n",
       "      <td>0.343654</td>\n",
       "      <td>-0.452711</td>\n",
       "      <td>-0.027736</td>\n",
       "      <td>0.240877</td>\n",
       "      <td>3</td>\n",
       "      <td>7</td>\n",
       "      <td>0</td>\n",
       "    </tr>\n",
       "    <tr>\n",
       "      <th>3</th>\n",
       "      <td>-0.312682</td>\n",
       "      <td>-0.609644</td>\n",
       "      <td>-0.461360</td>\n",
       "      <td>0.202616</td>\n",
       "      <td>-0.523820</td>\n",
       "      <td>5</td>\n",
       "      <td>3</td>\n",
       "      <td>4</td>\n",
       "    </tr>\n",
       "    <tr>\n",
       "      <th>4</th>\n",
       "      <td>0.182804</td>\n",
       "      <td>0.572023</td>\n",
       "      <td>0.467757</td>\n",
       "      <td>0.987896</td>\n",
       "      <td>-0.523820</td>\n",
       "      <td>1</td>\n",
       "      <td>2</td>\n",
       "      <td>7</td>\n",
       "    </tr>\n",
       "  </tbody>\n",
       "</table>\n",
       "</div>"
      ],
      "text/plain": [
       "   pickup_longitude  pickup_latitude  dropoff_longitude  dropoff_latitude  \\\n",
       "0          3.404932        -1.010390           3.529462         -1.198895   \n",
       "1         -1.065424        -1.349859          -0.134046          0.934117   \n",
       "2         -0.198357         0.343654          -0.452711         -0.027736   \n",
       "3         -0.312682        -0.609644          -0.461360          0.202616   \n",
       "4          0.182804         0.572023           0.467757          0.987896   \n",
       "\n",
       "   passenger_count  weekday  month  hour  \n",
       "0        -0.523820        0      5    17  \n",
       "1        -0.523820        1      0    16  \n",
       "2         0.240877        3      7     0  \n",
       "3        -0.523820        5      3     4  \n",
       "4        -0.523820        1      2     7  "
      ]
     },
     "execution_count": 84,
     "metadata": {},
     "output_type": "execute_result"
    }
   ],
   "source": [
    "df, (mean, std) = preprocess(df)\n",
    "target = df.pop('fare_amount')\n",
    "df.head()"
   ]
  },
  {
   "cell_type": "code",
   "execution_count": 74,
   "metadata": {
    "pycharm": {
     "is_executing": false,
     "name": "#%%\n"
    }
   },
   "outputs": [
    {
     "data": {
      "text/html": [
       "<div>\n",
       "<style scoped>\n",
       "    .dataframe tbody tr th:only-of-type {\n",
       "        vertical-align: middle;\n",
       "    }\n",
       "\n",
       "    .dataframe tbody tr th {\n",
       "        vertical-align: top;\n",
       "    }\n",
       "\n",
       "    .dataframe thead th {\n",
       "        text-align: right;\n",
       "    }\n",
       "</style>\n",
       "<table border=\"1\" class=\"dataframe\">\n",
       "  <thead>\n",
       "    <tr style=\"text-align: right;\">\n",
       "      <th></th>\n",
       "      <th>pickup_longitude</th>\n",
       "      <th>pickup_latitude</th>\n",
       "      <th>dropoff_longitude</th>\n",
       "      <th>dropoff_latitude</th>\n",
       "      <th>passenger_count</th>\n",
       "      <th>weekday</th>\n",
       "      <th>month</th>\n",
       "      <th>hour</th>\n",
       "    </tr>\n",
       "  </thead>\n",
       "  <tbody>\n",
       "    <tr>\n",
       "      <th>count</th>\n",
       "      <td>9.786000e+03</td>\n",
       "      <td>9.786000e+03</td>\n",
       "      <td>9.786000e+03</td>\n",
       "      <td>9.786000e+03</td>\n",
       "      <td>9.786000e+03</td>\n",
       "      <td>9786.000000</td>\n",
       "      <td>9786.000000</td>\n",
       "      <td>9786.000000</td>\n",
       "    </tr>\n",
       "    <tr>\n",
       "      <th>mean</th>\n",
       "      <td>-1.436718e-12</td>\n",
       "      <td>1.696763e-12</td>\n",
       "      <td>-1.681276e-12</td>\n",
       "      <td>1.316297e-12</td>\n",
       "      <td>-4.574309e-17</td>\n",
       "      <td>3.022583</td>\n",
       "      <td>5.196301</td>\n",
       "      <td>13.523299</td>\n",
       "    </tr>\n",
       "    <tr>\n",
       "      <th>std</th>\n",
       "      <td>1.000000e+00</td>\n",
       "      <td>1.000000e+00</td>\n",
       "      <td>1.000000e+00</td>\n",
       "      <td>1.000000e+00</td>\n",
       "      <td>1.000000e+00</td>\n",
       "      <td>1.974027</td>\n",
       "      <td>3.425802</td>\n",
       "      <td>6.497538</td>\n",
       "    </tr>\n",
       "    <tr>\n",
       "      <th>min</th>\n",
       "      <td>-1.081557e+01</td>\n",
       "      <td>-7.680220e+00</td>\n",
       "      <td>-1.157908e+01</td>\n",
       "      <td>-7.453599e+00</td>\n",
       "      <td>-1.294011e+00</td>\n",
       "      <td>0.000000</td>\n",
       "      <td>0.000000</td>\n",
       "      <td>0.000000</td>\n",
       "    </tr>\n",
       "    <tr>\n",
       "      <th>25%</th>\n",
       "      <td>-4.097441e-01</td>\n",
       "      <td>-4.707136e-01</td>\n",
       "      <td>-4.415501e-01</td>\n",
       "      <td>-4.585489e-01</td>\n",
       "      <td>-5.080632e-01</td>\n",
       "      <td>1.000000</td>\n",
       "      <td>2.000000</td>\n",
       "      <td>9.000000</td>\n",
       "    </tr>\n",
       "    <tr>\n",
       "      <th>50%</th>\n",
       "      <td>-1.726986e-01</td>\n",
       "      <td>5.665008e-02</td>\n",
       "      <td>-1.677201e-01</td>\n",
       "      <td>6.551144e-02</td>\n",
       "      <td>-5.080632e-01</td>\n",
       "      <td>3.000000</td>\n",
       "      <td>5.000000</td>\n",
       "      <td>14.000000</td>\n",
       "    </tr>\n",
       "    <tr>\n",
       "      <th>75%</th>\n",
       "      <td>1.494505e-01</td>\n",
       "      <td>5.033506e-01</td>\n",
       "      <td>2.168226e-01</td>\n",
       "      <td>4.823632e-01</td>\n",
       "      <td>2.778847e-01</td>\n",
       "      <td>5.000000</td>\n",
       "      <td>8.000000</td>\n",
       "      <td>19.000000</td>\n",
       "    </tr>\n",
       "    <tr>\n",
       "      <th>max</th>\n",
       "      <td>1.953614e+01</td>\n",
       "      <td>1.876252e+01</td>\n",
       "      <td>2.126904e+01</td>\n",
       "      <td>1.813970e+01</td>\n",
       "      <td>3.421676e+00</td>\n",
       "      <td>6.000000</td>\n",
       "      <td>11.000000</td>\n",
       "      <td>23.000000</td>\n",
       "    </tr>\n",
       "  </tbody>\n",
       "</table>\n",
       "</div>"
      ],
      "text/plain": [
       "       pickup_longitude  pickup_latitude  dropoff_longitude  dropoff_latitude  \\\n",
       "count      9.786000e+03     9.786000e+03       9.786000e+03      9.786000e+03   \n",
       "mean      -1.436718e-12     1.696763e-12      -1.681276e-12      1.316297e-12   \n",
       "std        1.000000e+00     1.000000e+00       1.000000e+00      1.000000e+00   \n",
       "min       -1.081557e+01    -7.680220e+00      -1.157908e+01     -7.453599e+00   \n",
       "25%       -4.097441e-01    -4.707136e-01      -4.415501e-01     -4.585489e-01   \n",
       "50%       -1.726986e-01     5.665008e-02      -1.677201e-01      6.551144e-02   \n",
       "75%        1.494505e-01     5.033506e-01       2.168226e-01      4.823632e-01   \n",
       "max        1.953614e+01     1.876252e+01       2.126904e+01      1.813970e+01   \n",
       "\n",
       "       passenger_count      weekday        month         hour  \n",
       "count     9.786000e+03  9786.000000  9786.000000  9786.000000  \n",
       "mean     -4.574309e-17     3.022583     5.196301    13.523299  \n",
       "std       1.000000e+00     1.974027     3.425802     6.497538  \n",
       "min      -1.294011e+00     0.000000     0.000000     0.000000  \n",
       "25%      -5.080632e-01     1.000000     2.000000     9.000000  \n",
       "50%      -5.080632e-01     3.000000     5.000000    14.000000  \n",
       "75%       2.778847e-01     5.000000     8.000000    19.000000  \n",
       "max       3.421676e+00     6.000000    11.000000    23.000000  "
      ]
     },
     "execution_count": 74,
     "metadata": {},
     "output_type": "execute_result"
    }
   ],
   "source": [
    "df.describe()"
   ]
  },
  {
   "cell_type": "code",
   "execution_count": 75,
   "metadata": {
    "pycharm": {
     "is_executing": false,
     "name": "#%%\n"
    }
   },
   "outputs": [],
   "source": [
    "input_fn_train = tf.estimator.inputs.pandas_input_fn(x=df, y=target, batch_size=16, num_epochs=50, shuffle=True, target_column=\"fare_amount\")"
   ]
  },
  {
   "cell_type": "code",
   "execution_count": 76,
   "metadata": {
    "pycharm": {
     "is_executing": false,
     "name": "#%%\n"
    }
   },
   "outputs": [
    {
     "data": {
      "text/plain": [
       "[NumericColumn(key='pickup_longitude', shape=(1,), default_value=None, dtype=tf.float32, normalizer_fn=None),\n",
       " NumericColumn(key='pickup_latitude', shape=(1,), default_value=None, dtype=tf.float32, normalizer_fn=None),\n",
       " NumericColumn(key='dropoff_longitude', shape=(1,), default_value=None, dtype=tf.float32, normalizer_fn=None),\n",
       " NumericColumn(key='dropoff_latitude', shape=(1,), default_value=None, dtype=tf.float32, normalizer_fn=None),\n",
       " NumericColumn(key='passenger_count', shape=(1,), default_value=None, dtype=tf.float32, normalizer_fn=None),\n",
       " EmbeddingColumn(categorical_column=IdentityCategoricalColumn(key='weekday', number_buckets=7, default_value=None), dimension=3, combiner='mean', initializer=<tensorflow.python.ops.init_ops.TruncatedNormal object at 0xb375d1320>, ckpt_to_load_from=None, tensor_name_in_ckpt=None, max_norm=None, trainable=True),\n",
       " EmbeddingColumn(categorical_column=IdentityCategoricalColumn(key='month', number_buckets=12, default_value=None), dimension=3, combiner='mean', initializer=<tensorflow.python.ops.init_ops.TruncatedNormal object at 0xb375d1438>, ckpt_to_load_from=None, tensor_name_in_ckpt=None, max_norm=None, trainable=True),\n",
       " EmbeddingColumn(categorical_column=IdentityCategoricalColumn(key='hour', number_buckets=24, default_value=None), dimension=5, combiner='mean', initializer=<tensorflow.python.ops.init_ops.TruncatedNormal object at 0xb375d1a90>, ckpt_to_load_from=None, tensor_name_in_ckpt=None, max_norm=None, trainable=True)]"
      ]
     },
     "execution_count": 76,
     "metadata": {},
     "output_type": "execute_result"
    }
   ],
   "source": [
    "feature_columns = [\n",
    "    tf.feature_column.numeric_column('pickup_longitude'),\n",
    "    tf.feature_column.numeric_column('pickup_latitude'),\n",
    "    tf.feature_column.numeric_column('dropoff_longitude'),\n",
    "    tf.feature_column.numeric_column('dropoff_latitude'),\n",
    "    tf.feature_column.numeric_column('passenger_count'),\n",
    "    embedding_column(categorical_column_with_identity('weekday', num_buckets=7), dimension=3),\n",
    "    embedding_column(categorical_column_with_identity('month', num_buckets=12), dimension=3),\n",
    "    embedding_column(categorical_column_with_identity('hour', num_buckets=24), dimension=5)\n",
    "]\n",
    "feature_columns"
   ]
  },
  {
   "cell_type": "code",
   "execution_count": 77,
   "metadata": {
    "pycharm": {
     "is_executing": false,
     "name": "#%%\n"
    }
   },
   "outputs": [
    {
     "name": "stdout",
     "output_type": "stream",
     "text": [
      "INFO:tensorflow:Using default config.\n",
      "WARNING:tensorflow:Using temporary folder as model directory: /var/folders/wt/dv0qlxcn5j9b0h9vd8tr23bh0000gn/T/tmpg2bqngsi\n",
      "INFO:tensorflow:Using config: {'_model_dir': '/var/folders/wt/dv0qlxcn5j9b0h9vd8tr23bh0000gn/T/tmpg2bqngsi', '_tf_random_seed': None, '_save_summary_steps': 100, '_save_checkpoints_steps': None, '_save_checkpoints_secs': 600, '_session_config': allow_soft_placement: true\n",
      "graph_options {\n",
      "  rewrite_options {\n",
      "    meta_optimizer_iterations: ONE\n",
      "  }\n",
      "}\n",
      ", '_keep_checkpoint_max': 5, '_keep_checkpoint_every_n_hours': 10000, '_log_step_count_steps': 100, '_train_distribute': None, '_device_fn': None, '_protocol': None, '_eval_distribute': None, '_experimental_distribute': None, '_service': None, '_cluster_spec': <tensorflow.python.training.server_lib.ClusterSpec object at 0xb375d1b38>, '_task_type': 'worker', '_task_id': 0, '_global_id_in_cluster': 0, '_master': '', '_evaluation_master': '', '_is_chief': True, '_num_ps_replicas': 0, '_num_worker_replicas': 1}\n"
     ]
    }
   ],
   "source": [
    "est = tf.estimator.DNNRegressor(\n",
    "    feature_columns=feature_columns, \n",
    "    hidden_units=[1024, 512, 256],\n",
    "    optimizer=tf.train.AdamOptimizer()\n",
    ")\n",
    "\n"
   ]
  },
  {
   "cell_type": "code",
   "execution_count": 78,
   "metadata": {
    "pycharm": {
     "is_executing": false,
     "name": "#%%\n"
    }
   },
   "outputs": [
    {
     "name": "stdout",
     "output_type": "stream",
     "text": [
      "INFO:tensorflow:Calling model_fn.\n",
      "INFO:tensorflow:Done calling model_fn.\n",
      "INFO:tensorflow:Create CheckpointSaverHook.\n",
      "INFO:tensorflow:Graph was finalized.\n",
      "INFO:tensorflow:Running local_init_op.\n",
      "INFO:tensorflow:Done running local_init_op.\n",
      "INFO:tensorflow:Saving checkpoints for 0 into /var/folders/wt/dv0qlxcn5j9b0h9vd8tr23bh0000gn/T/tmpg2bqngsi/model.ckpt.\n",
      "INFO:tensorflow:loss = 37.052, step = 1\n",
      "INFO:tensorflow:global_step/sec: 181.608\n",
      "INFO:tensorflow:loss = 1.4527016, step = 101 (0.551 sec)\n",
      "INFO:tensorflow:global_step/sec: 287.778\n",
      "INFO:tensorflow:loss = 1.1286051, step = 201 (0.348 sec)\n",
      "INFO:tensorflow:global_step/sec: 276.553\n",
      "INFO:tensorflow:loss = 3.0729916, step = 301 (0.361 sec)\n",
      "INFO:tensorflow:global_step/sec: 289.464\n",
      "INFO:tensorflow:loss = 5.9781485, step = 401 (0.346 sec)\n",
      "INFO:tensorflow:global_step/sec: 296.813\n",
      "INFO:tensorflow:loss = 1.1472969, step = 501 (0.337 sec)\n",
      "INFO:tensorflow:global_step/sec: 290.23\n",
      "INFO:tensorflow:loss = 1.40319, step = 601 (0.344 sec)\n",
      "INFO:tensorflow:global_step/sec: 284.309\n",
      "INFO:tensorflow:loss = 0.8035693, step = 701 (0.352 sec)\n",
      "INFO:tensorflow:global_step/sec: 289.922\n",
      "INFO:tensorflow:loss = 2.2915483, step = 801 (0.345 sec)\n",
      "INFO:tensorflow:global_step/sec: 281.424\n",
      "INFO:tensorflow:loss = 1.4753734, step = 901 (0.355 sec)\n",
      "INFO:tensorflow:global_step/sec: 235.014\n",
      "INFO:tensorflow:loss = 1.5139239, step = 1001 (0.426 sec)\n",
      "INFO:tensorflow:global_step/sec: 95.8975\n",
      "INFO:tensorflow:loss = 3.112131, step = 1101 (1.043 sec)\n",
      "INFO:tensorflow:global_step/sec: 160.961\n",
      "INFO:tensorflow:loss = 1.6930591, step = 1201 (0.624 sec)\n",
      "INFO:tensorflow:global_step/sec: 170.752\n",
      "INFO:tensorflow:loss = 2.1042762, step = 1301 (0.582 sec)\n",
      "INFO:tensorflow:global_step/sec: 257.569\n",
      "INFO:tensorflow:loss = 3.5574021, step = 1401 (0.388 sec)\n",
      "INFO:tensorflow:global_step/sec: 246.077\n",
      "INFO:tensorflow:loss = 1.1892474, step = 1501 (0.407 sec)\n",
      "INFO:tensorflow:global_step/sec: 206.659\n",
      "INFO:tensorflow:loss = 3.991943, step = 1601 (0.484 sec)\n",
      "INFO:tensorflow:global_step/sec: 212.846\n",
      "INFO:tensorflow:loss = 1.296217, step = 1701 (0.470 sec)\n",
      "INFO:tensorflow:global_step/sec: 209.224\n",
      "INFO:tensorflow:loss = 5.6246057, step = 1801 (0.478 sec)\n",
      "INFO:tensorflow:global_step/sec: 211.047\n",
      "INFO:tensorflow:loss = 1.8086538, step = 1901 (0.474 sec)\n",
      "INFO:tensorflow:global_step/sec: 228.304\n",
      "INFO:tensorflow:loss = 0.78382814, step = 2001 (0.438 sec)\n",
      "INFO:tensorflow:global_step/sec: 223.203\n",
      "INFO:tensorflow:loss = 2.060989, step = 2101 (0.448 sec)\n",
      "INFO:tensorflow:global_step/sec: 261.557\n",
      "INFO:tensorflow:loss = 4.1472325, step = 2201 (0.382 sec)\n",
      "INFO:tensorflow:global_step/sec: 282.018\n",
      "INFO:tensorflow:loss = 2.3592377, step = 2301 (0.362 sec)\n",
      "INFO:tensorflow:global_step/sec: 192.049\n",
      "INFO:tensorflow:loss = 5.8674097, step = 2401 (0.514 sec)\n",
      "INFO:tensorflow:global_step/sec: 280.642\n",
      "INFO:tensorflow:loss = 2.0717, step = 2501 (0.357 sec)\n",
      "INFO:tensorflow:global_step/sec: 221.029\n",
      "INFO:tensorflow:loss = 0.42909962, step = 2601 (0.452 sec)\n",
      "INFO:tensorflow:global_step/sec: 284.059\n",
      "INFO:tensorflow:loss = 0.5016109, step = 2701 (0.352 sec)\n",
      "INFO:tensorflow:global_step/sec: 266.007\n",
      "INFO:tensorflow:loss = 7.609212, step = 2801 (0.376 sec)\n",
      "INFO:tensorflow:global_step/sec: 237.746\n",
      "INFO:tensorflow:loss = 1.1026783, step = 2901 (0.421 sec)\n",
      "INFO:tensorflow:global_step/sec: 198.188\n",
      "INFO:tensorflow:loss = 1.4576685, step = 3001 (0.505 sec)\n",
      "INFO:tensorflow:global_step/sec: 175.697\n",
      "INFO:tensorflow:loss = 2.0194259, step = 3101 (0.569 sec)\n",
      "INFO:tensorflow:global_step/sec: 152.898\n",
      "INFO:tensorflow:loss = 4.8138375, step = 3201 (0.656 sec)\n",
      "INFO:tensorflow:global_step/sec: 196.81\n",
      "INFO:tensorflow:loss = 1.3649294, step = 3301 (0.506 sec)\n",
      "INFO:tensorflow:global_step/sec: 257.963\n",
      "INFO:tensorflow:loss = 5.457108, step = 3401 (0.388 sec)\n",
      "INFO:tensorflow:global_step/sec: 266.495\n",
      "INFO:tensorflow:loss = 0.39455318, step = 3501 (0.375 sec)\n",
      "INFO:tensorflow:global_step/sec: 185.775\n",
      "INFO:tensorflow:loss = 9.148455, step = 3601 (0.538 sec)\n",
      "INFO:tensorflow:global_step/sec: 287.524\n",
      "INFO:tensorflow:loss = 0.7036702, step = 3701 (0.348 sec)\n",
      "INFO:tensorflow:global_step/sec: 281.969\n",
      "INFO:tensorflow:loss = 0.7670967, step = 3801 (0.355 sec)\n",
      "INFO:tensorflow:global_step/sec: 263.242\n",
      "INFO:tensorflow:loss = 22.464148, step = 3901 (0.380 sec)\n",
      "INFO:tensorflow:global_step/sec: 288.402\n",
      "INFO:tensorflow:loss = 1.112134, step = 4001 (0.347 sec)\n",
      "INFO:tensorflow:global_step/sec: 289.394\n",
      "INFO:tensorflow:loss = 1.034657, step = 4101 (0.348 sec)\n",
      "INFO:tensorflow:global_step/sec: 279.998\n",
      "INFO:tensorflow:loss = 22.448227, step = 4201 (0.355 sec)\n",
      "INFO:tensorflow:global_step/sec: 286.798\n",
      "INFO:tensorflow:loss = 1.7030344, step = 4301 (0.349 sec)\n",
      "INFO:tensorflow:global_step/sec: 292.5\n",
      "INFO:tensorflow:loss = 2.7895062, step = 4401 (0.342 sec)\n",
      "INFO:tensorflow:global_step/sec: 282.769\n",
      "INFO:tensorflow:loss = 1.9949387, step = 4501 (0.354 sec)\n",
      "INFO:tensorflow:global_step/sec: 238.907\n",
      "INFO:tensorflow:loss = 1.5439181, step = 4601 (0.418 sec)\n",
      "INFO:tensorflow:global_step/sec: 98.753\n",
      "INFO:tensorflow:loss = 0.7327081, step = 4701 (1.015 sec)\n",
      "INFO:tensorflow:global_step/sec: 155.203\n",
      "INFO:tensorflow:loss = 0.49840224, step = 4801 (0.642 sec)\n",
      "INFO:tensorflow:global_step/sec: 246.744\n",
      "INFO:tensorflow:loss = 0.8462262, step = 4901 (0.405 sec)\n",
      "INFO:tensorflow:global_step/sec: 280.435\n",
      "INFO:tensorflow:loss = 1.7780876, step = 5001 (0.357 sec)\n",
      "INFO:tensorflow:global_step/sec: 262.379\n",
      "INFO:tensorflow:loss = 5.8659887, step = 5101 (0.382 sec)\n",
      "INFO:tensorflow:global_step/sec: 221.377\n",
      "INFO:tensorflow:loss = 1.8838942, step = 5201 (0.451 sec)\n",
      "INFO:tensorflow:global_step/sec: 270.248\n",
      "INFO:tensorflow:loss = 31.057934, step = 5301 (0.370 sec)\n",
      "INFO:tensorflow:global_step/sec: 215.815\n",
      "INFO:tensorflow:loss = 1.1460614, step = 5401 (0.464 sec)\n",
      "INFO:tensorflow:global_step/sec: 201.665\n",
      "INFO:tensorflow:loss = 3.6157193, step = 5501 (0.496 sec)\n",
      "INFO:tensorflow:global_step/sec: 230.721\n",
      "INFO:tensorflow:loss = 0.5879461, step = 5601 (0.434 sec)\n",
      "INFO:tensorflow:global_step/sec: 217.094\n",
      "INFO:tensorflow:loss = 1.1193581, step = 5701 (0.461 sec)\n",
      "INFO:tensorflow:global_step/sec: 254.579\n",
      "INFO:tensorflow:loss = 1.3639927, step = 5801 (0.393 sec)\n",
      "INFO:tensorflow:global_step/sec: 196.436\n",
      "INFO:tensorflow:loss = 2.2963743, step = 5901 (0.509 sec)\n",
      "INFO:tensorflow:global_step/sec: 218.453\n",
      "INFO:tensorflow:loss = 18.66689, step = 6001 (0.458 sec)\n",
      "INFO:tensorflow:global_step/sec: 280.037\n",
      "INFO:tensorflow:loss = 2.6842642, step = 6101 (0.358 sec)\n",
      "INFO:tensorflow:global_step/sec: 217.888\n",
      "INFO:tensorflow:loss = 8.551239, step = 6201 (0.458 sec)\n",
      "INFO:tensorflow:global_step/sec: 243.328\n",
      "INFO:tensorflow:loss = 1.035189, step = 6301 (0.411 sec)\n",
      "INFO:tensorflow:global_step/sec: 235.045\n",
      "INFO:tensorflow:loss = 1.6892657, step = 6401 (0.425 sec)\n",
      "INFO:tensorflow:global_step/sec: 246.462\n",
      "INFO:tensorflow:loss = 1.0482203, step = 6501 (0.406 sec)\n",
      "INFO:tensorflow:global_step/sec: 249.784\n",
      "INFO:tensorflow:loss = 0.7186239, step = 6601 (0.400 sec)\n",
      "INFO:tensorflow:global_step/sec: 202.095\n",
      "INFO:tensorflow:loss = 1.2345054, step = 6701 (0.523 sec)\n",
      "INFO:tensorflow:global_step/sec: 181.504\n",
      "INFO:tensorflow:loss = 0.7975585, step = 6801 (0.523 sec)\n",
      "INFO:tensorflow:global_step/sec: 202.683\n",
      "INFO:tensorflow:loss = 1.1715635, step = 6901 (0.493 sec)\n",
      "INFO:tensorflow:global_step/sec: 218.189\n",
      "INFO:tensorflow:loss = 1.9196202, step = 7001 (0.459 sec)\n",
      "INFO:tensorflow:global_step/sec: 216.485\n",
      "INFO:tensorflow:loss = 0.53164893, step = 7101 (0.462 sec)\n",
      "INFO:tensorflow:global_step/sec: 241.204\n",
      "INFO:tensorflow:loss = 1.8847699, step = 7201 (0.415 sec)\n",
      "INFO:tensorflow:global_step/sec: 193.881\n",
      "INFO:tensorflow:loss = 1.5265167, step = 7301 (0.516 sec)\n",
      "INFO:tensorflow:global_step/sec: 199.022\n",
      "INFO:tensorflow:loss = 1.6138004, step = 7401 (0.503 sec)\n",
      "INFO:tensorflow:global_step/sec: 220.987\n",
      "INFO:tensorflow:loss = 2.4255354, step = 7501 (0.451 sec)\n",
      "INFO:tensorflow:global_step/sec: 269.79\n",
      "INFO:tensorflow:loss = 0.52564913, step = 7601 (0.371 sec)\n",
      "INFO:tensorflow:global_step/sec: 244.175\n",
      "INFO:tensorflow:loss = 2.497059, step = 7701 (0.409 sec)\n",
      "INFO:tensorflow:global_step/sec: 240.386\n",
      "INFO:tensorflow:loss = 1.0372794, step = 7801 (0.416 sec)\n",
      "INFO:tensorflow:global_step/sec: 224.512\n",
      "INFO:tensorflow:loss = 2.7044594, step = 7901 (0.445 sec)\n",
      "INFO:tensorflow:global_step/sec: 190.572\n"
     ]
    },
    {
     "name": "stdout",
     "output_type": "stream",
     "text": [
      "INFO:tensorflow:loss = 1.4147434, step = 8001 (0.530 sec)\n",
      "INFO:tensorflow:global_step/sec: 86.3668\n",
      "INFO:tensorflow:loss = 0.6971652, step = 8101 (1.153 sec)\n",
      "INFO:tensorflow:global_step/sec: 144.368\n",
      "INFO:tensorflow:loss = 0.9412252, step = 8201 (0.692 sec)\n",
      "INFO:tensorflow:global_step/sec: 188.488\n",
      "INFO:tensorflow:loss = 0.7092048, step = 8301 (0.530 sec)\n",
      "INFO:tensorflow:global_step/sec: 263.489\n",
      "INFO:tensorflow:loss = 0.90203065, step = 8401 (0.379 sec)\n",
      "INFO:tensorflow:global_step/sec: 171.95\n",
      "INFO:tensorflow:loss = 0.43261763, step = 8501 (0.581 sec)\n",
      "INFO:tensorflow:global_step/sec: 213.674\n",
      "INFO:tensorflow:loss = 0.6602522, step = 8601 (0.469 sec)\n",
      "INFO:tensorflow:global_step/sec: 189.601\n",
      "INFO:tensorflow:loss = 1.5433037, step = 8701 (0.528 sec)\n",
      "INFO:tensorflow:global_step/sec: 188.801\n",
      "INFO:tensorflow:loss = 2.2120528, step = 8801 (0.529 sec)\n",
      "INFO:tensorflow:global_step/sec: 210.172\n",
      "INFO:tensorflow:loss = 0.35104588, step = 8901 (0.476 sec)\n",
      "INFO:tensorflow:global_step/sec: 173.795\n",
      "INFO:tensorflow:loss = 1.1821328, step = 9001 (0.576 sec)\n",
      "INFO:tensorflow:global_step/sec: 242.777\n",
      "INFO:tensorflow:loss = 259.26038, step = 9101 (0.412 sec)\n",
      "INFO:tensorflow:global_step/sec: 254.068\n",
      "INFO:tensorflow:loss = 1.9615716, step = 9201 (0.394 sec)\n",
      "INFO:tensorflow:global_step/sec: 270.606\n",
      "INFO:tensorflow:loss = 1.0188705, step = 9301 (0.369 sec)\n",
      "INFO:tensorflow:global_step/sec: 248.831\n",
      "INFO:tensorflow:loss = 0.89636034, step = 9401 (0.402 sec)\n",
      "INFO:tensorflow:global_step/sec: 224.399\n",
      "INFO:tensorflow:loss = 1.6294223, step = 9501 (0.447 sec)\n",
      "INFO:tensorflow:global_step/sec: 235.951\n",
      "INFO:tensorflow:loss = 1.0709484, step = 9601 (0.423 sec)\n",
      "INFO:tensorflow:global_step/sec: 235.631\n",
      "INFO:tensorflow:loss = 0.73636043, step = 9701 (0.424 sec)\n",
      "INFO:tensorflow:global_step/sec: 229.644\n",
      "INFO:tensorflow:loss = 1.1169348, step = 9801 (0.436 sec)\n",
      "INFO:tensorflow:global_step/sec: 217.865\n",
      "INFO:tensorflow:loss = 1.6365776, step = 9901 (0.459 sec)\n",
      "INFO:tensorflow:global_step/sec: 227.305\n",
      "INFO:tensorflow:loss = 0.54199433, step = 10001 (0.439 sec)\n",
      "INFO:tensorflow:global_step/sec: 232.54\n",
      "INFO:tensorflow:loss = 1.1490277, step = 10101 (0.437 sec)\n",
      "INFO:tensorflow:global_step/sec: 188.629\n",
      "INFO:tensorflow:loss = 2.5160117, step = 10201 (0.523 sec)\n",
      "INFO:tensorflow:global_step/sec: 189.655\n",
      "INFO:tensorflow:loss = 4.5347414, step = 10301 (0.528 sec)\n",
      "INFO:tensorflow:global_step/sec: 225.036\n",
      "INFO:tensorflow:loss = 0.4368959, step = 10401 (0.444 sec)\n",
      "INFO:tensorflow:global_step/sec: 271.597\n",
      "INFO:tensorflow:loss = 2.971458, step = 10501 (0.369 sec)\n",
      "INFO:tensorflow:global_step/sec: 227.842\n",
      "INFO:tensorflow:loss = 18.980677, step = 10601 (0.438 sec)\n",
      "INFO:tensorflow:global_step/sec: 207.416\n",
      "INFO:tensorflow:loss = 0.6864681, step = 10701 (0.482 sec)\n",
      "INFO:tensorflow:global_step/sec: 210.766\n",
      "INFO:tensorflow:loss = 0.8129171, step = 10801 (0.476 sec)\n",
      "INFO:tensorflow:global_step/sec: 232.439\n",
      "INFO:tensorflow:loss = 1.2238817, step = 10901 (0.429 sec)\n",
      "INFO:tensorflow:global_step/sec: 278.684\n",
      "INFO:tensorflow:loss = 0.29143405, step = 11001 (0.359 sec)\n",
      "INFO:tensorflow:global_step/sec: 243.553\n",
      "INFO:tensorflow:loss = 3.645556, step = 11101 (0.411 sec)\n",
      "INFO:tensorflow:global_step/sec: 254.856\n",
      "INFO:tensorflow:loss = 1.117584, step = 11201 (0.392 sec)\n",
      "INFO:tensorflow:global_step/sec: 255.449\n",
      "INFO:tensorflow:loss = 0.1163248, step = 11301 (0.392 sec)\n",
      "INFO:tensorflow:global_step/sec: 168.088\n",
      "INFO:tensorflow:loss = 1.1914003, step = 11401 (0.599 sec)\n",
      "INFO:tensorflow:global_step/sec: 76.7191\n",
      "INFO:tensorflow:loss = 0.65111184, step = 11501 (1.299 sec)\n",
      "INFO:tensorflow:global_step/sec: 142.3\n",
      "INFO:tensorflow:loss = 1.8304043, step = 11601 (0.704 sec)\n",
      "INFO:tensorflow:global_step/sec: 194.698\n",
      "INFO:tensorflow:loss = 0.6440173, step = 11701 (0.512 sec)\n",
      "INFO:tensorflow:global_step/sec: 214.597\n",
      "INFO:tensorflow:loss = 0.5218092, step = 11801 (0.466 sec)\n",
      "INFO:tensorflow:global_step/sec: 244.062\n",
      "INFO:tensorflow:loss = 1.2602164, step = 11901 (0.410 sec)\n",
      "INFO:tensorflow:global_step/sec: 200.881\n",
      "INFO:tensorflow:loss = 0.39553192, step = 12001 (0.498 sec)\n",
      "INFO:tensorflow:global_step/sec: 215.233\n",
      "INFO:tensorflow:loss = 1.1757767, step = 12101 (0.465 sec)\n",
      "INFO:tensorflow:global_step/sec: 173.703\n",
      "INFO:tensorflow:loss = 5.767604, step = 12201 (0.575 sec)\n",
      "INFO:tensorflow:global_step/sec: 163.897\n",
      "INFO:tensorflow:loss = 0.661552, step = 12301 (0.611 sec)\n",
      "INFO:tensorflow:global_step/sec: 211.98\n",
      "INFO:tensorflow:loss = 0.6116664, step = 12401 (0.473 sec)\n",
      "INFO:tensorflow:global_step/sec: 224.919\n",
      "INFO:tensorflow:loss = 1.5394619, step = 12501 (0.443 sec)\n",
      "INFO:tensorflow:global_step/sec: 225.134\n",
      "INFO:tensorflow:loss = 0.44768327, step = 12601 (0.444 sec)\n",
      "INFO:tensorflow:global_step/sec: 156.521\n",
      "INFO:tensorflow:loss = 0.89788634, step = 12701 (0.639 sec)\n",
      "INFO:tensorflow:global_step/sec: 245.581\n",
      "INFO:tensorflow:loss = 3.080494, step = 12801 (0.407 sec)\n",
      "INFO:tensorflow:global_step/sec: 199.934\n",
      "INFO:tensorflow:loss = 0.5145273, step = 12901 (0.501 sec)\n",
      "INFO:tensorflow:global_step/sec: 186.816\n",
      "INFO:tensorflow:loss = 0.8582952, step = 13001 (0.535 sec)\n",
      "INFO:tensorflow:global_step/sec: 235.864\n",
      "INFO:tensorflow:loss = 1.5069927, step = 13101 (0.424 sec)\n",
      "INFO:tensorflow:global_step/sec: 281.667\n",
      "INFO:tensorflow:loss = 1.953058, step = 13201 (0.354 sec)\n",
      "INFO:tensorflow:global_step/sec: 289.272\n",
      "INFO:tensorflow:loss = 1.1908696, step = 13301 (0.346 sec)\n",
      "INFO:tensorflow:global_step/sec: 284.192\n",
      "INFO:tensorflow:loss = 0.7348213, step = 13401 (0.352 sec)\n",
      "INFO:tensorflow:global_step/sec: 238.993\n",
      "INFO:tensorflow:loss = 0.4099444, step = 13501 (0.419 sec)\n",
      "INFO:tensorflow:global_step/sec: 276.2\n",
      "INFO:tensorflow:loss = 2.9747088, step = 13601 (0.362 sec)\n",
      "INFO:tensorflow:global_step/sec: 251.848\n",
      "INFO:tensorflow:loss = 0.5041282, step = 13701 (0.397 sec)\n",
      "INFO:tensorflow:global_step/sec: 264.537\n",
      "INFO:tensorflow:loss = 0.5699402, step = 13801 (0.378 sec)\n",
      "INFO:tensorflow:global_step/sec: 214.597\n",
      "INFO:tensorflow:loss = 0.562882, step = 13901 (0.468 sec)\n",
      "INFO:tensorflow:global_step/sec: 232.299\n",
      "INFO:tensorflow:loss = 24.576694, step = 14001 (0.428 sec)\n",
      "INFO:tensorflow:global_step/sec: 226.238\n",
      "INFO:tensorflow:loss = 1.9176049, step = 14101 (0.442 sec)\n",
      "INFO:tensorflow:global_step/sec: 268.05\n",
      "INFO:tensorflow:loss = 1.2255272, step = 14201 (0.373 sec)\n",
      "INFO:tensorflow:global_step/sec: 278.514\n",
      "INFO:tensorflow:loss = 0.14199997, step = 14301 (0.359 sec)\n",
      "INFO:tensorflow:global_step/sec: 257.214\n",
      "INFO:tensorflow:loss = 0.7087504, step = 14401 (0.389 sec)\n",
      "INFO:tensorflow:global_step/sec: 294.998\n",
      "INFO:tensorflow:loss = 1.0693376, step = 14501 (0.339 sec)\n",
      "INFO:tensorflow:global_step/sec: 293.563\n",
      "INFO:tensorflow:loss = 1.1859806, step = 14601 (0.341 sec)\n",
      "INFO:tensorflow:global_step/sec: 252.955\n",
      "INFO:tensorflow:loss = 0.68946266, step = 14701 (0.398 sec)\n",
      "INFO:tensorflow:global_step/sec: 77.835\n",
      "INFO:tensorflow:loss = 0.6407641, step = 14801 (1.282 sec)\n",
      "INFO:tensorflow:global_step/sec: 166.575\n",
      "INFO:tensorflow:loss = 1.5885919, step = 14901 (0.602 sec)\n",
      "INFO:tensorflow:global_step/sec: 213.978\n",
      "INFO:tensorflow:loss = 0.8124915, step = 15001 (0.465 sec)\n",
      "INFO:tensorflow:global_step/sec: 274.177\n",
      "INFO:tensorflow:loss = 1.0542929, step = 15101 (0.365 sec)\n",
      "INFO:tensorflow:global_step/sec: 285.659\n",
      "INFO:tensorflow:loss = 0.43641478, step = 15201 (0.350 sec)\n",
      "INFO:tensorflow:global_step/sec: 290.913\n",
      "INFO:tensorflow:loss = 0.6081766, step = 15301 (0.344 sec)\n",
      "INFO:tensorflow:global_step/sec: 285.11\n",
      "INFO:tensorflow:loss = 1.5549164, step = 15401 (0.351 sec)\n",
      "INFO:tensorflow:global_step/sec: 292.607\n",
      "INFO:tensorflow:loss = 0.66186345, step = 15501 (0.342 sec)\n",
      "INFO:tensorflow:global_step/sec: 292.255\n",
      "INFO:tensorflow:loss = 0.79978913, step = 15601 (0.343 sec)\n",
      "INFO:tensorflow:global_step/sec: 283.481\n",
      "INFO:tensorflow:loss = 0.73429525, step = 15701 (0.352 sec)\n",
      "INFO:tensorflow:global_step/sec: 283.99\n",
      "INFO:tensorflow:loss = 1.125044, step = 15801 (0.352 sec)\n",
      "INFO:tensorflow:global_step/sec: 290.602\n",
      "INFO:tensorflow:loss = 0.9192978, step = 15901 (0.344 sec)\n",
      "INFO:tensorflow:global_step/sec: 282.597\n",
      "INFO:tensorflow:loss = 0.77395856, step = 16001 (0.354 sec)\n",
      "INFO:tensorflow:global_step/sec: 296.15\n",
      "INFO:tensorflow:loss = 0.8881302, step = 16101 (0.338 sec)\n",
      "INFO:tensorflow:global_step/sec: 290.628\n",
      "INFO:tensorflow:loss = 0.18151249, step = 16201 (0.344 sec)\n"
     ]
    },
    {
     "name": "stdout",
     "output_type": "stream",
     "text": [
      "INFO:tensorflow:global_step/sec: 275.355\n",
      "INFO:tensorflow:loss = 0.7824408, step = 16301 (0.363 sec)\n",
      "INFO:tensorflow:global_step/sec: 281.473\n",
      "INFO:tensorflow:loss = 0.986133, step = 16401 (0.355 sec)\n",
      "INFO:tensorflow:global_step/sec: 296.184\n",
      "INFO:tensorflow:loss = 0.89785457, step = 16501 (0.338 sec)\n",
      "INFO:tensorflow:global_step/sec: 286.632\n",
      "INFO:tensorflow:loss = 0.8776952, step = 16601 (0.349 sec)\n",
      "INFO:tensorflow:global_step/sec: 293.778\n",
      "INFO:tensorflow:loss = 0.5230497, step = 16701 (0.340 sec)\n",
      "INFO:tensorflow:global_step/sec: 287.393\n",
      "INFO:tensorflow:loss = 1.1283033, step = 16801 (0.348 sec)\n",
      "INFO:tensorflow:global_step/sec: 291.938\n",
      "INFO:tensorflow:loss = 36.71952, step = 16901 (0.343 sec)\n",
      "INFO:tensorflow:global_step/sec: 300.491\n",
      "INFO:tensorflow:loss = 2.4781132, step = 17001 (0.333 sec)\n",
      "INFO:tensorflow:global_step/sec: 283.618\n",
      "INFO:tensorflow:loss = 200.52203, step = 17101 (0.353 sec)\n",
      "INFO:tensorflow:global_step/sec: 260.756\n",
      "INFO:tensorflow:loss = 2.9667828, step = 17201 (0.384 sec)\n",
      "INFO:tensorflow:global_step/sec: 277.898\n",
      "INFO:tensorflow:loss = 1.0111903, step = 17301 (0.359 sec)\n",
      "INFO:tensorflow:global_step/sec: 256.463\n",
      "INFO:tensorflow:loss = 0.8764114, step = 17401 (0.390 sec)\n",
      "INFO:tensorflow:global_step/sec: 257.029\n",
      "INFO:tensorflow:loss = 0.9589526, step = 17501 (0.390 sec)\n",
      "INFO:tensorflow:global_step/sec: 222.434\n",
      "INFO:tensorflow:loss = 1.2158763, step = 17601 (0.449 sec)\n",
      "INFO:tensorflow:global_step/sec: 261.777\n",
      "INFO:tensorflow:loss = 1.5686331, step = 17701 (0.382 sec)\n",
      "INFO:tensorflow:global_step/sec: 268.923\n",
      "INFO:tensorflow:loss = 0.97927094, step = 17801 (0.372 sec)\n",
      "INFO:tensorflow:global_step/sec: 262.136\n",
      "INFO:tensorflow:loss = 0.5037447, step = 17901 (0.381 sec)\n",
      "INFO:tensorflow:global_step/sec: 284.343\n",
      "INFO:tensorflow:loss = 1.5245658, step = 18001 (0.352 sec)\n",
      "INFO:tensorflow:global_step/sec: 282.978\n",
      "INFO:tensorflow:loss = 1.6970375, step = 18101 (0.353 sec)\n",
      "INFO:tensorflow:global_step/sec: 272.425\n",
      "INFO:tensorflow:loss = 0.82380426, step = 18201 (0.368 sec)\n",
      "INFO:tensorflow:global_step/sec: 271.239\n",
      "INFO:tensorflow:loss = 0.50452346, step = 18301 (0.368 sec)\n",
      "INFO:tensorflow:global_step/sec: 274.393\n",
      "INFO:tensorflow:loss = 0.55580854, step = 18401 (0.365 sec)\n",
      "INFO:tensorflow:global_step/sec: 257.454\n",
      "INFO:tensorflow:loss = 23.222599, step = 18501 (0.388 sec)\n",
      "INFO:tensorflow:global_step/sec: 263.245\n",
      "INFO:tensorflow:loss = 0.5830189, step = 18601 (0.380 sec)\n",
      "INFO:tensorflow:global_step/sec: 293.899\n",
      "INFO:tensorflow:loss = 1.8465564, step = 18701 (0.340 sec)\n",
      "INFO:tensorflow:global_step/sec: 240.522\n",
      "INFO:tensorflow:loss = 0.5489808, step = 18801 (0.416 sec)\n",
      "INFO:tensorflow:global_step/sec: 255.046\n",
      "INFO:tensorflow:loss = 1.3402214, step = 18901 (0.392 sec)\n",
      "INFO:tensorflow:global_step/sec: 102.891\n",
      "INFO:tensorflow:loss = 0.8493842, step = 19001 (0.972 sec)\n",
      "INFO:tensorflow:global_step/sec: 185.099\n",
      "INFO:tensorflow:loss = 0.713084, step = 19101 (0.540 sec)\n",
      "INFO:tensorflow:global_step/sec: 206.69\n",
      "INFO:tensorflow:loss = 0.4916187, step = 19201 (0.484 sec)\n",
      "INFO:tensorflow:global_step/sec: 259.422\n",
      "INFO:tensorflow:loss = 0.66826415, step = 19301 (0.385 sec)\n",
      "INFO:tensorflow:global_step/sec: 284.826\n",
      "INFO:tensorflow:loss = 1.2157109, step = 19401 (0.351 sec)\n",
      "INFO:tensorflow:global_step/sec: 279.693\n",
      "INFO:tensorflow:loss = 0.8063035, step = 19501 (0.357 sec)\n",
      "INFO:tensorflow:global_step/sec: 283.496\n",
      "INFO:tensorflow:loss = 2.1447039, step = 19601 (0.353 sec)\n",
      "INFO:tensorflow:global_step/sec: 281.36\n",
      "INFO:tensorflow:loss = 0.4321951, step = 19701 (0.355 sec)\n",
      "INFO:tensorflow:global_step/sec: 263.344\n",
      "INFO:tensorflow:loss = 3.7226632, step = 19801 (0.380 sec)\n",
      "INFO:tensorflow:global_step/sec: 274.31\n",
      "INFO:tensorflow:loss = 0.7783151, step = 19901 (0.364 sec)\n",
      "INFO:tensorflow:global_step/sec: 282.571\n",
      "INFO:tensorflow:loss = 3.2205596, step = 20001 (0.354 sec)\n",
      "INFO:tensorflow:global_step/sec: 273.5\n",
      "INFO:tensorflow:loss = 1.0918576, step = 20101 (0.366 sec)\n",
      "INFO:tensorflow:global_step/sec: 249.277\n",
      "INFO:tensorflow:loss = 0.6085246, step = 20201 (0.401 sec)\n",
      "INFO:tensorflow:global_step/sec: 185.721\n",
      "INFO:tensorflow:loss = 20.513754, step = 20301 (0.539 sec)\n",
      "INFO:tensorflow:global_step/sec: 158.556\n",
      "INFO:tensorflow:loss = 0.6220174, step = 20401 (0.633 sec)\n",
      "INFO:tensorflow:global_step/sec: 197.697\n",
      "INFO:tensorflow:loss = 0.40558574, step = 20501 (0.504 sec)\n",
      "INFO:tensorflow:global_step/sec: 257.124\n",
      "INFO:tensorflow:loss = 1.0561522, step = 20601 (0.389 sec)\n",
      "INFO:tensorflow:global_step/sec: 254.076\n",
      "INFO:tensorflow:loss = 0.64056635, step = 20701 (0.394 sec)\n",
      "INFO:tensorflow:global_step/sec: 256.785\n",
      "INFO:tensorflow:loss = 22.132685, step = 20801 (0.389 sec)\n",
      "INFO:tensorflow:global_step/sec: 251.175\n",
      "INFO:tensorflow:loss = 0.2968921, step = 20901 (0.399 sec)\n",
      "INFO:tensorflow:global_step/sec: 223.286\n",
      "INFO:tensorflow:loss = 3.0498168, step = 21001 (0.447 sec)\n",
      "INFO:tensorflow:global_step/sec: 220.385\n",
      "INFO:tensorflow:loss = 2.1120422, step = 21101 (0.455 sec)\n",
      "INFO:tensorflow:global_step/sec: 193.391\n",
      "INFO:tensorflow:loss = 0.7581337, step = 21201 (0.517 sec)\n",
      "INFO:tensorflow:global_step/sec: 222.746\n",
      "INFO:tensorflow:loss = 1.0120853, step = 21301 (0.448 sec)\n",
      "INFO:tensorflow:global_step/sec: 188.661\n",
      "INFO:tensorflow:loss = 1.2078606, step = 21401 (0.531 sec)\n",
      "INFO:tensorflow:global_step/sec: 169.856\n",
      "INFO:tensorflow:loss = 0.6334888, step = 21501 (0.588 sec)\n",
      "INFO:tensorflow:global_step/sec: 191.713\n",
      "INFO:tensorflow:loss = 0.5149913, step = 21601 (0.522 sec)\n",
      "INFO:tensorflow:global_step/sec: 189.849\n",
      "INFO:tensorflow:loss = 0.39682496, step = 21701 (0.526 sec)\n",
      "INFO:tensorflow:global_step/sec: 219.855\n",
      "INFO:tensorflow:loss = 12.627783, step = 21801 (0.455 sec)\n",
      "INFO:tensorflow:global_step/sec: 267.076\n",
      "INFO:tensorflow:loss = 0.55280626, step = 21901 (0.375 sec)\n",
      "INFO:tensorflow:global_step/sec: 259.5\n",
      "INFO:tensorflow:loss = 3.1480155, step = 22001 (0.385 sec)\n",
      "INFO:tensorflow:global_step/sec: 255.172\n",
      "INFO:tensorflow:loss = 1.1269612, step = 22101 (0.392 sec)\n",
      "INFO:tensorflow:global_step/sec: 248.917\n",
      "INFO:tensorflow:loss = 0.40169737, step = 22201 (0.402 sec)\n",
      "INFO:tensorflow:global_step/sec: 231.571\n",
      "INFO:tensorflow:loss = 3.4954934, step = 22301 (0.432 sec)\n",
      "INFO:tensorflow:global_step/sec: 216.302\n",
      "INFO:tensorflow:loss = 0.9525318, step = 22401 (0.463 sec)\n",
      "INFO:tensorflow:global_step/sec: 97.4706\n",
      "INFO:tensorflow:loss = 0.26496273, step = 22501 (1.026 sec)\n",
      "INFO:tensorflow:global_step/sec: 174.137\n",
      "INFO:tensorflow:loss = 6.481262, step = 22601 (0.574 sec)\n",
      "INFO:tensorflow:global_step/sec: 177.889\n",
      "INFO:tensorflow:loss = 0.885141, step = 22701 (0.564 sec)\n",
      "INFO:tensorflow:global_step/sec: 238.381\n",
      "INFO:tensorflow:loss = 0.63596684, step = 22801 (0.417 sec)\n",
      "INFO:tensorflow:global_step/sec: 283.829\n",
      "INFO:tensorflow:loss = 0.37379664, step = 22901 (0.352 sec)\n",
      "INFO:tensorflow:global_step/sec: 267.329\n",
      "INFO:tensorflow:loss = 0.5276873, step = 23001 (0.374 sec)\n",
      "INFO:tensorflow:global_step/sec: 240.602\n",
      "INFO:tensorflow:loss = 1.2074447, step = 23101 (0.416 sec)\n",
      "INFO:tensorflow:global_step/sec: 254.375\n",
      "INFO:tensorflow:loss = 0.23476389, step = 23201 (0.393 sec)\n",
      "INFO:tensorflow:global_step/sec: 264.437\n",
      "INFO:tensorflow:loss = 0.58046645, step = 23301 (0.378 sec)\n",
      "INFO:tensorflow:global_step/sec: 290.276\n",
      "INFO:tensorflow:loss = 0.42260325, step = 23401 (0.345 sec)\n",
      "INFO:tensorflow:global_step/sec: 280.037\n",
      "INFO:tensorflow:loss = 0.72079957, step = 23501 (0.357 sec)\n",
      "INFO:tensorflow:global_step/sec: 284.052\n",
      "INFO:tensorflow:loss = 0.35405922, step = 23601 (0.352 sec)\n",
      "INFO:tensorflow:global_step/sec: 252.896\n",
      "INFO:tensorflow:loss = 1.4534123, step = 23701 (0.395 sec)\n",
      "INFO:tensorflow:global_step/sec: 253.953\n",
      "INFO:tensorflow:loss = 0.756236, step = 23801 (0.394 sec)\n",
      "INFO:tensorflow:global_step/sec: 287.084\n",
      "INFO:tensorflow:loss = 0.52844113, step = 23901 (0.348 sec)\n",
      "INFO:tensorflow:global_step/sec: 268.541\n",
      "INFO:tensorflow:loss = 0.3751467, step = 24001 (0.373 sec)\n",
      "INFO:tensorflow:global_step/sec: 288.664\n",
      "INFO:tensorflow:loss = 0.9700341, step = 24101 (0.346 sec)\n",
      "INFO:tensorflow:global_step/sec: 290.286\n",
      "INFO:tensorflow:loss = 0.30114892, step = 24201 (0.344 sec)\n",
      "INFO:tensorflow:global_step/sec: 293.798\n",
      "INFO:tensorflow:loss = 0.3783155, step = 24301 (0.340 sec)\n",
      "INFO:tensorflow:global_step/sec: 288.921\n",
      "INFO:tensorflow:loss = 1.0903318, step = 24401 (0.346 sec)\n"
     ]
    },
    {
     "name": "stdout",
     "output_type": "stream",
     "text": [
      "INFO:tensorflow:global_step/sec: 292.505\n",
      "INFO:tensorflow:loss = 0.3721305, step = 24501 (0.342 sec)\n",
      "INFO:tensorflow:global_step/sec: 272.128\n",
      "INFO:tensorflow:loss = 0.35736883, step = 24601 (0.367 sec)\n",
      "INFO:tensorflow:global_step/sec: 253.247\n",
      "INFO:tensorflow:loss = 1.7335577, step = 24701 (0.395 sec)\n",
      "INFO:tensorflow:global_step/sec: 271.429\n",
      "INFO:tensorflow:loss = 0.21963948, step = 24801 (0.369 sec)\n",
      "INFO:tensorflow:global_step/sec: 266.299\n",
      "INFO:tensorflow:loss = 1.0317876, step = 24901 (0.375 sec)\n",
      "INFO:tensorflow:global_step/sec: 219.009\n",
      "INFO:tensorflow:loss = 0.97348595, step = 25001 (0.457 sec)\n",
      "INFO:tensorflow:global_step/sec: 284.375\n",
      "INFO:tensorflow:loss = 0.54867554, step = 25101 (0.352 sec)\n",
      "INFO:tensorflow:global_step/sec: 218.018\n",
      "INFO:tensorflow:loss = 0.45679334, step = 25201 (0.459 sec)\n",
      "INFO:tensorflow:global_step/sec: 263.662\n",
      "INFO:tensorflow:loss = 0.5187077, step = 25301 (0.378 sec)\n",
      "INFO:tensorflow:global_step/sec: 252.876\n",
      "INFO:tensorflow:loss = 0.86812985, step = 25401 (0.398 sec)\n",
      "INFO:tensorflow:global_step/sec: 208.018\n",
      "INFO:tensorflow:loss = 0.23734832, step = 25501 (0.479 sec)\n",
      "INFO:tensorflow:global_step/sec: 214.726\n",
      "INFO:tensorflow:loss = 0.44450074, step = 25601 (0.466 sec)\n",
      "INFO:tensorflow:global_step/sec: 262.988\n",
      "INFO:tensorflow:loss = 1.8409507, step = 25701 (0.380 sec)\n",
      "INFO:tensorflow:global_step/sec: 239.839\n",
      "INFO:tensorflow:loss = 1.5497167, step = 25801 (0.418 sec)\n",
      "INFO:tensorflow:global_step/sec: 278.73\n",
      "INFO:tensorflow:loss = 0.69862044, step = 25901 (0.358 sec)\n",
      "INFO:tensorflow:global_step/sec: 281.778\n",
      "INFO:tensorflow:loss = 0.49931026, step = 26001 (0.355 sec)\n",
      "INFO:tensorflow:global_step/sec: 228.636\n",
      "INFO:tensorflow:loss = 0.58392894, step = 26101 (0.437 sec)\n",
      "INFO:tensorflow:global_step/sec: 221.432\n",
      "INFO:tensorflow:loss = 0.9866233, step = 26201 (0.455 sec)\n",
      "INFO:tensorflow:global_step/sec: 182.401\n",
      "INFO:tensorflow:loss = 0.3635866, step = 26301 (0.548 sec)\n",
      "INFO:tensorflow:global_step/sec: 78.3682\n",
      "INFO:tensorflow:loss = 0.6888555, step = 26401 (1.273 sec)\n",
      "INFO:tensorflow:global_step/sec: 207.54\n",
      "INFO:tensorflow:loss = 0.3387798, step = 26501 (0.482 sec)\n",
      "INFO:tensorflow:global_step/sec: 285.048\n",
      "INFO:tensorflow:loss = 1.2495029, step = 26601 (0.350 sec)\n",
      "INFO:tensorflow:global_step/sec: 238.074\n",
      "INFO:tensorflow:loss = 15.387505, step = 26701 (0.422 sec)\n",
      "INFO:tensorflow:global_step/sec: 260.633\n",
      "INFO:tensorflow:loss = 0.6072395, step = 26801 (0.381 sec)\n",
      "INFO:tensorflow:global_step/sec: 277.984\n",
      "INFO:tensorflow:loss = 0.87859815, step = 26901 (0.360 sec)\n",
      "INFO:tensorflow:global_step/sec: 265.012\n",
      "INFO:tensorflow:loss = 0.5614036, step = 27001 (0.377 sec)\n",
      "INFO:tensorflow:global_step/sec: 258.964\n",
      "INFO:tensorflow:loss = 1.3764303, step = 27101 (0.386 sec)\n",
      "INFO:tensorflow:global_step/sec: 250.19\n",
      "INFO:tensorflow:loss = 1.2549964, step = 27201 (0.400 sec)\n",
      "INFO:tensorflow:global_step/sec: 281.473\n",
      "INFO:tensorflow:loss = 0.5935444, step = 27301 (0.355 sec)\n",
      "INFO:tensorflow:global_step/sec: 258.262\n",
      "INFO:tensorflow:loss = 0.24410233, step = 27401 (0.387 sec)\n",
      "INFO:tensorflow:global_step/sec: 266.986\n",
      "INFO:tensorflow:loss = 1.2467148, step = 27501 (0.375 sec)\n",
      "INFO:tensorflow:global_step/sec: 274.482\n",
      "INFO:tensorflow:loss = 0.6547829, step = 27601 (0.364 sec)\n",
      "INFO:tensorflow:global_step/sec: 244.013\n",
      "INFO:tensorflow:loss = 0.56441665, step = 27701 (0.410 sec)\n",
      "INFO:tensorflow:global_step/sec: 270.096\n",
      "INFO:tensorflow:loss = 0.84405154, step = 27801 (0.370 sec)\n",
      "INFO:tensorflow:global_step/sec: 279.312\n",
      "INFO:tensorflow:loss = 0.52810985, step = 27901 (0.358 sec)\n",
      "INFO:tensorflow:global_step/sec: 245.251\n",
      "INFO:tensorflow:loss = 0.4626495, step = 28001 (0.408 sec)\n",
      "INFO:tensorflow:global_step/sec: 257.274\n",
      "INFO:tensorflow:loss = 1.5763203, step = 28101 (0.389 sec)\n",
      "INFO:tensorflow:global_step/sec: 267.518\n",
      "INFO:tensorflow:loss = 0.3405307, step = 28201 (0.374 sec)\n",
      "INFO:tensorflow:global_step/sec: 242.901\n",
      "INFO:tensorflow:loss = 0.56408226, step = 28301 (0.412 sec)\n",
      "INFO:tensorflow:global_step/sec: 253.69\n",
      "INFO:tensorflow:loss = 0.7984909, step = 28401 (0.394 sec)\n",
      "INFO:tensorflow:global_step/sec: 272.627\n",
      "INFO:tensorflow:loss = 0.13219103, step = 28501 (0.366 sec)\n",
      "INFO:tensorflow:global_step/sec: 262.482\n",
      "INFO:tensorflow:loss = 0.34623867, step = 28601 (0.384 sec)\n",
      "INFO:tensorflow:global_step/sec: 168.012\n",
      "INFO:tensorflow:loss = 0.775107, step = 28701 (0.596 sec)\n",
      "INFO:tensorflow:global_step/sec: 182.91\n",
      "INFO:tensorflow:loss = 0.7935999, step = 28801 (0.544 sec)\n",
      "INFO:tensorflow:global_step/sec: 236.611\n",
      "INFO:tensorflow:loss = 0.49795032, step = 28901 (0.423 sec)\n",
      "INFO:tensorflow:global_step/sec: 270.366\n",
      "INFO:tensorflow:loss = 0.46221185, step = 29001 (0.370 sec)\n",
      "INFO:tensorflow:global_step/sec: 198.747\n",
      "INFO:tensorflow:loss = 0.59984064, step = 29101 (0.503 sec)\n",
      "INFO:tensorflow:global_step/sec: 240.691\n",
      "INFO:tensorflow:loss = 0.16379863, step = 29201 (0.415 sec)\n",
      "INFO:tensorflow:global_step/sec: 288.356\n",
      "INFO:tensorflow:loss = 0.24325864, step = 29301 (0.347 sec)\n",
      "INFO:tensorflow:global_step/sec: 276.542\n",
      "INFO:tensorflow:loss = 0.43086642, step = 29401 (0.361 sec)\n",
      "INFO:tensorflow:global_step/sec: 286.459\n",
      "INFO:tensorflow:loss = 0.23769727, step = 29501 (0.349 sec)\n",
      "INFO:tensorflow:global_step/sec: 253.871\n",
      "INFO:tensorflow:loss = 0.6739339, step = 29601 (0.394 sec)\n",
      "INFO:tensorflow:global_step/sec: 230.095\n",
      "INFO:tensorflow:loss = 0.23654595, step = 29701 (0.436 sec)\n",
      "INFO:tensorflow:global_step/sec: 196.217\n",
      "INFO:tensorflow:loss = 0.3811221, step = 29801 (0.510 sec)\n",
      "INFO:tensorflow:global_step/sec: 211.875\n",
      "INFO:tensorflow:loss = 2.2018335, step = 29901 (0.471 sec)\n",
      "INFO:tensorflow:global_step/sec: 81.1779\n",
      "INFO:tensorflow:loss = 0.6024188, step = 30001 (1.232 sec)\n",
      "INFO:tensorflow:global_step/sec: 138.804\n",
      "INFO:tensorflow:loss = 0.32490742, step = 30101 (0.723 sec)\n",
      "INFO:tensorflow:global_step/sec: 177.587\n",
      "INFO:tensorflow:loss = 1.7543565, step = 30201 (0.585 sec)\n",
      "INFO:tensorflow:global_step/sec: 149.469\n",
      "INFO:tensorflow:loss = 1.2639852, step = 30301 (0.645 sec)\n",
      "INFO:tensorflow:global_step/sec: 222.614\n",
      "INFO:tensorflow:loss = 0.632958, step = 30401 (0.448 sec)\n",
      "INFO:tensorflow:global_step/sec: 246.809\n",
      "INFO:tensorflow:loss = 0.2589895, step = 30501 (0.406 sec)\n",
      "INFO:tensorflow:Saving checkpoints for 30582 into /var/folders/wt/dv0qlxcn5j9b0h9vd8tr23bh0000gn/T/tmpg2bqngsi/model.ckpt.\n",
      "INFO:tensorflow:Loss for final step: 0.18459839.\n"
     ]
    },
    {
     "data": {
      "text/plain": [
       "<tensorflow_estimator.python.estimator.canned.dnn.DNNRegressor at 0xb2ed219b0>"
      ]
     },
     "execution_count": 78,
     "metadata": {},
     "output_type": "execute_result"
    }
   ],
   "source": [
    "est.train(input_fn=input_fn_train)\n"
   ]
  },
  {
   "cell_type": "code",
   "execution_count": 244,
   "metadata": {},
   "outputs": [],
   "source": [
    "TEST_PATH = \"/Users/bryanwu/Desktop/taxi_fare_prediction/new-york-city-taxi-fare-prediction/train.csv\"\n",
    "df_test = pd.read_csv(TEST_PATH, skiprows=range(1,1_000_000), parse_dates=['pickup_datetime'], nrows=2000)\n",
    "df_test.head()\n",
    "df_test, _ = preprocess(df_test)\n",
    "target_test = df_test.pop('fare_amount')"
   ]
  },
  {
   "cell_type": "code",
   "execution_count": 245,
   "metadata": {
    "pycharm": {
     "name": "#%%\n"
    }
   },
   "outputs": [],
   "source": [
    "input_fn_test = tf.estimator.inputs.pandas_input_fn(x=df_test, \n",
    "                                                     y=target_test,  \n",
    "                                                    shuffle=False,\n",
    "                                                    batch_size=2000,\n",
    "                                                     target_column=\"fare_amount\"\n",
    "                                                    )"
   ]
  },
  {
   "cell_type": "code",
   "execution_count": 246,
   "metadata": {},
   "outputs": [],
   "source": [
    "predictions = est.predict(\n",
    "    input_fn_test,\n",
    "    predict_keys=None,\n",
    "    hooks=None,\n",
    "    checkpoint_path=None,\n",
    "    yield_single_examples=False\n",
    ")"
   ]
  },
  {
   "cell_type": "code",
   "execution_count": 247,
   "metadata": {},
   "outputs": [
    {
     "name": "stdout",
     "output_type": "stream",
     "text": [
      "INFO:tensorflow:Calling model_fn.\n",
      "INFO:tensorflow:Done calling model_fn.\n",
      "INFO:tensorflow:Graph was finalized.\n",
      "INFO:tensorflow:Restoring parameters from /var/folders/wt/dv0qlxcn5j9b0h9vd8tr23bh0000gn/T/tmpg2bqngsi/model.ckpt-30582\n",
      "INFO:tensorflow:Running local_init_op.\n",
      "INFO:tensorflow:Done running local_init_op.\n"
     ]
    }
   ],
   "source": [
    "predictions = list(predictions)[0]"
   ]
  },
  {
   "cell_type": "code",
   "execution_count": 248,
   "metadata": {},
   "outputs": [
    {
     "data": {
      "text/plain": [
       "{'predictions': array([[-0.6139192 ],\n",
       "        [ 0.16843894],\n",
       "        [-0.6945644 ],\n",
       "        ...,\n",
       "        [-0.44352132],\n",
       "        [ 0.10787749],\n",
       "        [ 0.9651627 ]], dtype=float32)}"
      ]
     },
     "execution_count": 248,
     "metadata": {},
     "output_type": "execute_result"
    }
   ],
   "source": [
    "predictions"
   ]
  },
  {
   "cell_type": "code",
   "execution_count": 249,
   "metadata": {},
   "outputs": [],
   "source": [
    "predictions = predictions['predictions']"
   ]
  },
  {
   "cell_type": "code",
   "execution_count": 250,
   "metadata": {},
   "outputs": [
    {
     "data": {
      "text/plain": [
       "array([[-0.6139192 ],\n",
       "       [ 0.16843894],\n",
       "       [-0.6945644 ],\n",
       "       ...,\n",
       "       [-0.44352132],\n",
       "       [ 0.10787749],\n",
       "       [ 0.9651627 ]], dtype=float32)"
      ]
     },
     "execution_count": 250,
     "metadata": {},
     "output_type": "execute_result"
    }
   ],
   "source": [
    "predictions"
   ]
  },
  {
   "cell_type": "code",
   "execution_count": 251,
   "metadata": {},
   "outputs": [
    {
     "data": {
      "text/plain": [
       "fare_amount          9.714552\n",
       "pickup_longitude     0.038417\n",
       "pickup_latitude      0.029505\n",
       "dropoff_longitude    0.037575\n",
       "dropoff_latitude     0.032689\n",
       "passenger_count      1.307707\n",
       "dtype: float32"
      ]
     },
     "execution_count": 251,
     "metadata": {},
     "output_type": "execute_result"
    }
   ],
   "source": [
    "mean.astype('float32')\n",
    "std.astype('float32')"
   ]
  },
  {
   "cell_type": "code",
   "execution_count": 252,
   "metadata": {},
   "outputs": [],
   "source": [
    "predictions = predictions*std['fare_amount']+mean['fare_amount']"
   ]
  },
  {
   "cell_type": "code",
   "execution_count": 253,
   "metadata": {},
   "outputs": [
    {
     "data": {
      "text/plain": [
       "array([[ 5.3654404],\n",
       "       [12.965699 ],\n",
       "       [ 4.5820084],\n",
       "       ...,\n",
       "       [ 7.0207796],\n",
       "       [12.377372 ],\n",
       "       [20.705513 ]], dtype=float32)"
      ]
     },
     "execution_count": 253,
     "metadata": {},
     "output_type": "execute_result"
    }
   ],
   "source": [
    "predictions"
   ]
  },
  {
   "cell_type": "code",
   "execution_count": 254,
   "metadata": {},
   "outputs": [
    {
     "data": {
      "text/plain": [
       "1967"
      ]
     },
     "execution_count": 254,
     "metadata": {},
     "output_type": "execute_result"
    }
   ],
   "source": [
    "len(predictions)"
   ]
  },
  {
   "cell_type": "code",
   "execution_count": 255,
   "metadata": {},
   "outputs": [
    {
     "data": {
      "text/plain": [
       "<tf.Tensor 'add:0' shape=(1967,) dtype=float32>"
      ]
     },
     "execution_count": 255,
     "metadata": {},
     "output_type": "execute_result"
    }
   ],
   "source": [
    "target_test_tensor = tf.dtypes.cast(tf.constant(target_test), tf.float32)*std['fare_amount']+mean['fare_amount']\n",
    "target_test_tensor"
   ]
  },
  {
   "cell_type": "code",
   "execution_count": 256,
   "metadata": {},
   "outputs": [
    {
     "data": {
      "text/plain": [
       "(1967,)"
      ]
     },
     "execution_count": 256,
     "metadata": {},
     "output_type": "execute_result"
    }
   ],
   "source": [
    "import numpy as np\n",
    "target_test_tensor.shape\n",
    "np.squeeze(predictions).shape"
   ]
  },
  {
   "cell_type": "code",
   "execution_count": 257,
   "metadata": {},
   "outputs": [],
   "source": [
    "rsme = tf.metrics.mean_squared_error(labels=target_test_tensor, predictions=predictions)"
   ]
  },
  {
   "cell_type": "code",
   "execution_count": 258,
   "metadata": {},
   "outputs": [],
   "source": [
    "from tensorflow import keras\n",
    "rsme = keras.losses.mean_squared_error(np.squeeze(predictions), target_test_tensor)"
   ]
  },
  {
   "cell_type": "code",
   "execution_count": 259,
   "metadata": {},
   "outputs": [],
   "source": [
    "session = tf.Session()"
   ]
  },
  {
   "cell_type": "code",
   "execution_count": 264,
   "metadata": {},
   "outputs": [
    {
     "data": {
      "text/plain": [
       "6.5826764"
      ]
     },
     "execution_count": 264,
     "metadata": {},
     "output_type": "execute_result"
    }
   ],
   "source": [
    "np.sqrt(session.run(rsme))"
   ]
  },
  {
   "cell_type": "code",
   "execution_count": 261,
   "metadata": {},
   "outputs": [
    {
     "data": {
      "text/plain": [
       "array([ 3.9167438, 10.309787 ,  3.490541 , 11.268743 ,  6.9001637,\n",
       "       21.39106  , 17.129032 ,  5.6215553, 22.456568 ,  6.9001637],\n",
       "      dtype=float32)"
      ]
     },
     "execution_count": 261,
     "metadata": {},
     "output_type": "execute_result"
    }
   ],
   "source": [
    "sess.run(target_test_tensor[:10])"
   ]
  },
  {
   "cell_type": "code",
   "execution_count": 263,
   "metadata": {},
   "outputs": [
    {
     "data": {
      "text/plain": [
       "array([[ 5.3654404],\n",
       "       [12.965699 ],\n",
       "       [ 4.5820084],\n",
       "       [10.853432 ],\n",
       "       [ 8.89147  ],\n",
       "       [22.39938  ],\n",
       "       [14.651457 ],\n",
       "       [ 6.934065 ],\n",
       "       [12.235401 ],\n",
       "       [ 4.8407574]], dtype=float32)"
      ]
     },
     "execution_count": 263,
     "metadata": {},
     "output_type": "execute_result"
    }
   ],
   "source": [
    "predictions[:10]"
   ]
  },
  {
   "cell_type": "code",
   "execution_count": null,
   "metadata": {},
   "outputs": [],
   "source": []
  }
 ],
 "metadata": {
  "kernelspec": {
   "display_name": "PyCharm (taxi_fare_prediction)",
   "language": "python",
   "name": "pycharm-17e93d43"
  },
  "language_info": {
   "codemirror_mode": {
    "name": "ipython",
    "version": 3
   },
   "file_extension": ".py",
   "mimetype": "text/x-python",
   "name": "python",
   "nbconvert_exporter": "python",
   "pygments_lexer": "ipython3",
   "version": "3.7.3"
  },
  "pycharm": {
   "stem_cell": {
    "cell_type": "raw",
    "metadata": {
     "collapsed": false
    },
    "source": []
   }
  }
 },
 "nbformat": 4,
 "nbformat_minor": 1
}
