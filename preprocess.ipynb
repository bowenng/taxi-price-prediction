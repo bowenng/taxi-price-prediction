{
 "cells": [
  {
   "cell_type": "code",
   "execution_count": 75,
   "metadata": {},
   "outputs": [
    {
     "name": "stdout",
     "output_type": "stream",
     "text": [
      "Python 3.7.3\n",
      "pip 19.0.3 from /Users/bryanwu/anaconda/lib/python3.7/site-packages/pip (python 3.7)\n"
     ]
    }
   ],
   "source": [
    "%%bash\n",
    "python --version\n",
    "pip --version"
   ]
  },
  {
   "cell_type": "code",
   "execution_count": 76,
   "metadata": {},
   "outputs": [],
   "source": [
    "import apache_beam as beam\n",
    "from apache_beam.options.pipeline_options import PipelineOptions\n",
    "from math import sin, cos, atan2, sqrt\n",
    "from datetime import datetime\n",
    "import matplotlib.pyplot as plt"
   ]
  },
  {
   "cell_type": "code",
   "execution_count": 77,
   "metadata": {},
   "outputs": [],
   "source": [
    "class ProcessCSV(beam.DoFn):\n",
    "    def process(self, element):\n",
    "        key, fare_amount, pickup_datetime, pickup_longitude, pickup_latitude, \\\n",
    "        dropoff_longitude, dropoff_latitude, passenger_count = element.split(',')\n",
    "        return [{\n",
    "            'fare_amount': fare_amount,\n",
    "            'pickup_datetime': pickup_datetime,\n",
    "            'pickup_longitude': pickup_longitude,\n",
    "            'pickup_latitude': pickup_latitude,\n",
    "            'dropoff_longitude': dropoff_longitude,\n",
    "            'dropoff_latitude': dropoff_latitude\n",
    "        }]"
   ]
  },
  {
   "cell_type": "code",
   "execution_count": 78,
   "metadata": {},
   "outputs": [],
   "source": [
    "class CalculateDistance(beam.DoFn):\n",
    "    def process(self, element):\n",
    "        pickup_longitude = float(element['pickup_longitude'])\n",
    "        pickup_latitude = float(element['pickup_latitude'])\n",
    "        dropoff_longitude = float(element['dropoff_longitude'])\n",
    "        dropoff_latitude = float(element['dropoff_latitude'])\n",
    "        del_longitude = pickup_longitude - dropoff_longitude\n",
    "        del_latitude = pickup_latitude - dropoff_latitude\n",
    "        a = sin(del_latitude/2)**2 + cos(pickup_latitude)*cos(dropoff_latitude)*sin(del_longitude/2)**2\n",
    "        c = 2*atan2(sqrt(a), sqrt(1-a))\n",
    "        R = 6371.0\n",
    "        d = R * c\n",
    "        element['distance'] = d\n",
    "        return [element]"
   ]
  },
  {
   "cell_type": "code",
   "execution_count": 79,
   "metadata": {},
   "outputs": [],
   "source": [
    "class FilterNoisyDataPoint(beam.DoFn):\n",
    "    def process(self, element):\n",
    "        def is_within_boundingbox(element, BB=(-74.5, -72.8, 40.5, 41.8)):\n",
    "            pickup_longitude = float(element['pickup_longitude'])\n",
    "            pickup_latitude = float(element['pickup_latitude'])\n",
    "            dropoff_longitude = float(element['dropoff_longitude'])\n",
    "            dropoff_latitude = float(element['dropoff_latitude'])\n",
    "            return (pickup_longitude >= BB[0]) & (pickup_longitude <= BB[1]) & \\\n",
    "                   (pickup_latitude >= BB[2]) & (pickup_latitude <= BB[3]) & \\\n",
    "                   (dropoff_longitude >= BB[0]) & (dropoff_longitude <= BB[1]) & \\\n",
    "                   (dropoff_latitude >= BB[2]) & (dropoff_latitude <= BB[3])\n",
    "        \n",
    "        if is_within_boundingbox(element):\n",
    "            return [element]"
   ]
  },
  {
   "cell_type": "code",
   "execution_count": 80,
   "metadata": {},
   "outputs": [],
   "source": [
    "class ExtractDateTime(beam.DoFn):\n",
    "    def process(self, element):\n",
    "        dt = datetime.strptime(element['pickup_datetime'], '%Y-%m-%d %H:%M:%S UTC')\n",
    "        element['hour'] = dt.hour\n",
    "        element['month'] = dt.month\n",
    "        element['week_number'] = dt.isocalendar()[1]\n",
    "        element['weekday'] = dt.weekday()\n",
    "        return [element]"
   ]
  },
  {
   "cell_type": "code",
   "execution_count": 101,
   "metadata": {},
   "outputs": [],
   "source": [
    "class MergeToString(beam.DoFn):\n",
    "    def process(self, element):\n",
    "        column_names = ['fare_amount', \n",
    "                        'week_number', \n",
    "                        'weekday', 'hour', \n",
    "                        'pickup_longitude', \n",
    "                        'pickup_latitude', \n",
    "                        'dropoff_longitude',\n",
    "                        'dropoff_latitude',\n",
    "                        'distance']\n",
    "        \n",
    "        return [','.join(['{}']*len(column_names)).format(*[element[column] for column in column_names])]\n",
    "        "
   ]
  },
  {
   "cell_type": "code",
   "execution_count": 102,
   "metadata": {},
   "outputs": [],
   "source": [
    "opts = PipelineOptions(\n",
    "    runner='direct'\n",
    ")\n",
    "pipe = beam.Pipeline(options=opts)"
   ]
  },
  {
   "cell_type": "code",
   "execution_count": 103,
   "metadata": {},
   "outputs": [],
   "source": [
    "file_location = './new-york-city-taxi-fare-prediction/train_subset.csv'\n",
    "column_names = ['fare_amount', \n",
    "                        'week_number', \n",
    "                        'weekday', 'hour', \n",
    "                        'pickup_longitude', \n",
    "                        'pickup_latitude', \n",
    "                        'dropoff_longitude',\n",
    "                        'dropoff_latitude',\n",
    "                        'distance']\n",
    "\n",
    "lines = (pipe \n",
    "         | 'ReadFile' >> beam.io.ReadFromText(file_location, skip_header_lines=1)\n",
    "         | 'SplitCSV' >> beam.ParDo(ProcessCSV())\n",
    "         | 'CalculateDistance' >> beam.ParDo(CalculateDistance())\n",
    "         | 'FilterNoisyDataPoints' >> beam.ParDo(FilterNoisyDataPoint())\n",
    "         | 'ExtractDateTime' >> beam.ParDo(ExtractDateTime())\n",
    "         | 'MergeToString' >> beam.ParDo(MergeToString())\n",
    "         | 'WriteToGCS' >> beam.io.WriteToText('./tmp/transformed_train.csv', header=', '.join(column_names)))"
   ]
  },
  {
   "cell_type": "code",
   "execution_count": 104,
   "metadata": {},
   "outputs": [
    {
     "name": "stderr",
     "output_type": "stream",
     "text": [
      "WARNING:root:Deleting 1 existing files in target path matching: -*-of-%(num_shards)05d\n"
     ]
    },
    {
     "data": {
      "text/plain": [
       "<apache_beam.runners.portability.fn_api_runner.RunnerResult at 0x1205e2e48>"
      ]
     },
     "execution_count": 104,
     "metadata": {},
     "output_type": "execute_result"
    }
   ],
   "source": [
    "pipe.run()"
   ]
  },
  {
   "cell_type": "code",
   "execution_count": null,
   "metadata": {},
   "outputs": [],
   "source": []
  },
  {
   "cell_type": "code",
   "execution_count": null,
   "metadata": {},
   "outputs": [],
   "source": []
  }
 ],
 "metadata": {
  "kernelspec": {
   "display_name": "Python 3",
   "language": "python",
   "name": "python3"
  },
  "language_info": {
   "codemirror_mode": {
    "name": "ipython",
    "version": 3
   },
   "file_extension": ".py",
   "mimetype": "text/x-python",
   "name": "python",
   "nbconvert_exporter": "python",
   "pygments_lexer": "ipython3",
   "version": "3.7.3"
  }
 },
 "nbformat": 4,
 "nbformat_minor": 2
}
