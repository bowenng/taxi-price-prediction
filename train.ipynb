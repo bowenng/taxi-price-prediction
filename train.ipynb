{
 "cells": [
  {
   "cell_type": "code",
   "execution_count": 1,
   "metadata": {},
   "outputs": [],
   "source": [
    "import tensorflow as tf\n",
    "from tensorflow.feature_column import embedding_column, numeric_column, categorical_column_with_identity\n",
    "import numpy as np\n",
    "import os"
   ]
  },
  {
   "cell_type": "code",
   "execution_count": 2,
   "metadata": {},
   "outputs": [],
   "source": [
    "tf.enable_eager_execution()"
   ]
  },
  {
   "cell_type": "code",
   "execution_count": 83,
   "metadata": {},
   "outputs": [],
   "source": [
    "def build_feature_columns():\n",
    "    pickup_longitude = tf.feature_column.numeric_column('pickup_longitude')\n",
    "    pickup_latitude = tf.feature_column.numeric_column('pickup_latitude')\n",
    "    dropoff_longitude = tf.feature_column.numeric_column('dropoff_longitude')\n",
    "    dropoff_latitude = tf.feature_column.numeric_column('dropoff_latitude')\n",
    "    \n",
    "    \n",
    "    weekday = tf.feature_column.categorical_column_with_identity('weekday', 7)\n",
    "    month = tf.feature_column.categorical_column_with_identity('month', 12)\n",
    "    hour = tf.feature_column.categorical_column_with_identity('hour', 24)\n",
    "    week_number = tf.feature_column.categorical_column_with_identity('week_number', 53)\n",
    "    \n",
    "    base_columns = [\n",
    "        weekday,\n",
    "        month,\n",
    "        hour,\n",
    "        week_number\n",
    "    ]\n",
    "    \n",
    "    pickup_x = tf.feature_column.bucketized_column(pickup_longitude, list(np.linspace(0.0,1.0, 126)))\n",
    "    pickup_y = tf.feature_column.bucketized_column(pickup_latitude, list(np.linspace(0.0,1.0, 124)))\n",
    "    dropoff_x = tf.feature_column.bucketized_column(pickup_latitude, list(np.linspace(0.0,1.0, 126)))\n",
    "    dropoff_y = tf.feature_column.bucketized_column(pickup_latitude, list(np.linspace(0.0,1.0, 124)))\n",
    "    \n",
    "    cross_columns = [\n",
    "        tf.feature_column.crossed_column([pickup_x, pickup_y], 126*124*20),\n",
    "        tf.feature_column.crossed_column([dropoff_x, dropoff_y], 126*124*20),\n",
    "        #tf.feature_column.crossed_column([month, weekday, hour], 7*12*24)\n",
    "    ]\n",
    "    \n",
    "    wide_columns = base_columns + cross_columns\n",
    "    \n",
    "    distance = tf.feature_column.numeric_column('distance')\n",
    "    weekday_embed = embedding_column(weekday, dimension=8)\n",
    "    hour_embed = embedding_column(hour, dimension=8)\n",
    "    week_number_embed = embedding_column(week_number, dimension=16)\n",
    "    \n",
    "    deep_columns = [\n",
    "        distance,\n",
    "        weekday_embed,\n",
    "        hour_embed,\n",
    "        week_number_embed\n",
    "    ]\n",
    "    \n",
    "    return wide_columns, deep_columns"
   ]
  },
  {
   "cell_type": "code",
   "execution_count": 84,
   "metadata": {},
   "outputs": [],
   "source": [
    "wide_columns, deep_columns = build_feature_columns()"
   ]
  },
  {
   "cell_type": "code",
   "execution_count": 87,
   "metadata": {},
   "outputs": [
    {
     "name": "stdout",
     "output_type": "stream",
     "text": [
      "INFO:tensorflow:Using default config.\n",
      "WARNING:tensorflow:Using temporary folder as model directory: /var/folders/wt/dv0qlxcn5j9b0h9vd8tr23bh0000gn/T/tmpuoiev4lc\n",
      "INFO:tensorflow:Using config: {'_model_dir': '/var/folders/wt/dv0qlxcn5j9b0h9vd8tr23bh0000gn/T/tmpuoiev4lc', '_tf_random_seed': None, '_save_summary_steps': 100, '_save_checkpoints_steps': None, '_save_checkpoints_secs': 600, '_session_config': allow_soft_placement: true\n",
      "graph_options {\n",
      "  rewrite_options {\n",
      "    meta_optimizer_iterations: ONE\n",
      "  }\n",
      "}\n",
      ", '_keep_checkpoint_max': 5, '_keep_checkpoint_every_n_hours': 10000, '_log_step_count_steps': 100, '_train_distribute': None, '_device_fn': None, '_protocol': None, '_eval_distribute': None, '_experimental_distribute': None, '_service': None, '_cluster_spec': <tensorflow.python.training.server_lib.ClusterSpec object at 0xb39de1cc0>, '_task_type': 'worker', '_task_id': 0, '_global_id_in_cluster': 0, '_master': '', '_evaluation_master': '', '_is_chief': True, '_num_ps_replicas': 0, '_num_worker_replicas': 1}\n"
     ]
    }
   ],
   "source": [
    "def build_estimator(fc_fn):\n",
    "    wide_columns, deep_columns = fc_fn()\n",
    "    hidden_units = [1000, 500, 250, 50]\n",
    "    return tf.estimator.DNNLinearCombinedRegressor(\n",
    "        linear_feature_columns=wide_columns,\n",
    "        dnn_feature_columns=deep_columns,\n",
    "        dnn_hidden_units=hidden_units,\n",
    "        dnn_optimizer=tf.train.ProximalAdagradOptimizer(\n",
    "        learning_rate=0.1,\n",
    "        l1_regularization_strength=0.001,\n",
    "        l2_regularization_strength=0.001))\n",
    "model = build_estimator(build_feature_columns)"
   ]
  },
  {
   "cell_type": "code",
   "execution_count": 88,
   "metadata": {},
   "outputs": [],
   "source": [
    "dataset_dir = os.path.join('dataset')\n",
    "\n",
    "train_data_file_name = os.path.join('train', 'train')\n",
    "train_dataset_full_path = os.path.join(dataset_dir, train_data_file_name)\n",
    "\n",
    "eval_data_file_name = os.path.join('eval', 'eval')\n",
    "eval_dataset_full_path = os.path.join(dataset_dir, eval_data_file_name)"
   ]
  },
  {
   "cell_type": "code",
   "execution_count": 89,
   "metadata": {},
   "outputs": [],
   "source": [
    "# train_raw_dataset = tf.data.TFRecordDataset(train_dataset_full_path)\n",
    "# eval_raw_dataset = tf.data.TFRecordDataset(eval_dataset_full_path)"
   ]
  },
  {
   "cell_type": "code",
   "execution_count": 90,
   "metadata": {},
   "outputs": [],
   "source": [
    "# train_parsed_dataset = train_raw_dataset.map(parse_function)\n",
    "# eval_parsed_dataset = eval_raw_dataset.map(parse_function)"
   ]
  },
  {
   "cell_type": "code",
   "execution_count": 91,
   "metadata": {},
   "outputs": [],
   "source": [
    "def input_fn(dataset_path):\n",
    "    raw_dataset = tf.data.TFRecordDataset(dataset_path)\n",
    "    \n",
    "    def parse_function(example_proto):\n",
    "        column_description = {\n",
    "             'fare_amount': tf.FixedLenFeature([], tf.float32),\n",
    "                'pickup_longitude': tf.FixedLenFeature([], tf.float32),\n",
    "                'pickup_latitude': tf.FixedLenFeature([], tf.float32),\n",
    "                'dropoff_longitude': tf.FixedLenFeature([], tf.float32),\n",
    "                'dropoff_latitude': tf.FixedLenFeature([], tf.float32),\n",
    "                'distance': tf.FixedLenFeature([], tf.float32),\n",
    "                'hour': tf.FixedLenFeature([], tf.int64),\n",
    "                'month': tf.FixedLenFeature([], tf.int64),\n",
    "                'week_number': tf.FixedLenFeature([], tf.int64),\n",
    "                'weekday': tf.FixedLenFeature([], tf.int64)\n",
    "        } \n",
    "        \n",
    "        columns = tf.parse_single_example(example_proto, column_description)\n",
    "        label = columns.pop('fare_amount')\n",
    "        features = columns\n",
    "        \n",
    "        return features, label\n",
    "\n",
    "    parsed_dataset = raw_dataset.map(parse_function)\n",
    "    \n",
    "    dataset = parsed_dataset.shuffle(1000)\n",
    "    dataset = dataset.batch(512)\n",
    "    dataset = dataset.repeat(10000)\n",
    "    \n",
    "    iterator = dataset.make_one_shot_iterator()\n",
    "    features, label = iterator.get_next()\n",
    "    return (features, label)\n"
   ]
  },
  {
   "cell_type": "code",
   "execution_count": 92,
   "metadata": {},
   "outputs": [],
   "source": [
    "train_spec = tf.estimator.TrainSpec(input_fn=lambda : input_fn(train_dataset_full_path))\n",
    "eval_spec = tf.estimator.EvalSpec(input_fn=lambda : input_fn(eval_dataset_full_path))"
   ]
  },
  {
   "cell_type": "code",
   "execution_count": null,
   "metadata": {},
   "outputs": [
    {
     "name": "stdout",
     "output_type": "stream",
     "text": [
      "INFO:tensorflow:Not using Distribute Coordinator.\n",
      "INFO:tensorflow:Running training and evaluation locally (non-distributed).\n",
      "INFO:tensorflow:Start train and evaluate loop. The evaluate will happen after every checkpoint. Checkpoint frequency is determined based on RunConfig arguments: save_checkpoints_steps None or save_checkpoints_secs 600.\n",
      "INFO:tensorflow:Calling model_fn.\n",
      "INFO:tensorflow:Done calling model_fn.\n",
      "INFO:tensorflow:Create CheckpointSaverHook.\n",
      "INFO:tensorflow:Graph was finalized.\n",
      "INFO:tensorflow:Running local_init_op.\n",
      "INFO:tensorflow:Done running local_init_op.\n",
      "INFO:tensorflow:Saving checkpoints for 0 into /var/folders/wt/dv0qlxcn5j9b0h9vd8tr23bh0000gn/T/tmpuoiev4lc/model.ckpt.\n",
      "INFO:tensorflow:loss = 109499.05, step = 1\n",
      "INFO:tensorflow:global_step/sec: 20.0851\n",
      "INFO:tensorflow:loss = 48394.35, step = 101 (4.980 sec)\n",
      "INFO:tensorflow:global_step/sec: 19.5976\n",
      "INFO:tensorflow:loss = 37297.613, step = 201 (5.102 sec)\n",
      "INFO:tensorflow:global_step/sec: 22.7134\n",
      "INFO:tensorflow:loss = 33093.652, step = 301 (4.403 sec)\n",
      "INFO:tensorflow:global_step/sec: 21.7174\n",
      "INFO:tensorflow:loss = 27218.113, step = 401 (4.604 sec)\n",
      "INFO:tensorflow:global_step/sec: 20.0358\n",
      "INFO:tensorflow:loss = 23264.098, step = 501 (4.991 sec)\n",
      "INFO:tensorflow:global_step/sec: 23.7543\n",
      "INFO:tensorflow:loss = 13721.059, step = 601 (4.210 sec)\n",
      "INFO:tensorflow:global_step/sec: 22.7324\n",
      "INFO:tensorflow:loss = 14398.911, step = 701 (4.399 sec)\n",
      "INFO:tensorflow:global_step/sec: 22.9164\n",
      "INFO:tensorflow:loss = 11409.993, step = 801 (4.364 sec)\n",
      "INFO:tensorflow:global_step/sec: 21.2614\n",
      "INFO:tensorflow:loss = 8748.781, step = 901 (4.703 sec)\n",
      "INFO:tensorflow:global_step/sec: 23.7657\n",
      "INFO:tensorflow:loss = 7352.745, step = 1001 (4.208 sec)\n",
      "INFO:tensorflow:global_step/sec: 23.6306\n",
      "INFO:tensorflow:loss = 6929.2515, step = 1101 (4.232 sec)\n",
      "INFO:tensorflow:global_step/sec: 19.9543\n",
      "INFO:tensorflow:loss = 5636.466, step = 1201 (5.011 sec)\n",
      "INFO:tensorflow:global_step/sec: 23.5992\n",
      "INFO:tensorflow:loss = 5608.3223, step = 1301 (4.237 sec)\n",
      "INFO:tensorflow:global_step/sec: 22.6273\n",
      "INFO:tensorflow:loss = 3304.8198, step = 1401 (4.419 sec)\n",
      "INFO:tensorflow:global_step/sec: 22.1852\n",
      "INFO:tensorflow:loss = 3550.726, step = 1501 (4.508 sec)\n",
      "INFO:tensorflow:global_step/sec: 20.0103\n",
      "INFO:tensorflow:loss = 3431.2231, step = 1601 (4.997 sec)\n",
      "INFO:tensorflow:global_step/sec: 23.5412\n",
      "INFO:tensorflow:loss = 3303.7585, step = 1701 (4.248 sec)\n",
      "INFO:tensorflow:global_step/sec: 23.0207\n",
      "INFO:tensorflow:loss = 2682.46, step = 1801 (4.344 sec)\n",
      "INFO:tensorflow:global_step/sec: 20.5404\n",
      "INFO:tensorflow:loss = 2550.6787, step = 1901 (4.869 sec)\n",
      "INFO:tensorflow:global_step/sec: 22.5073\n",
      "INFO:tensorflow:loss = 2140.826, step = 2001 (4.443 sec)\n",
      "INFO:tensorflow:global_step/sec: 22.9297\n",
      "INFO:tensorflow:loss = 2691.4512, step = 2101 (4.361 sec)\n",
      "INFO:tensorflow:global_step/sec: 22.5828\n",
      "INFO:tensorflow:loss = 2006.6687, step = 2201 (4.428 sec)\n",
      "INFO:tensorflow:global_step/sec: 20.0487\n",
      "INFO:tensorflow:loss = 1772.5413, step = 2301 (4.988 sec)\n",
      "INFO:tensorflow:global_step/sec: 23.4353\n",
      "INFO:tensorflow:loss = 1837.4736, step = 2401 (4.267 sec)\n",
      "INFO:tensorflow:global_step/sec: 21.8796\n",
      "INFO:tensorflow:loss = 1914.5457, step = 2501 (4.570 sec)\n",
      "INFO:tensorflow:global_step/sec: 20.887\n",
      "INFO:tensorflow:loss = 1465.7363, step = 2601 (4.788 sec)\n",
      "INFO:tensorflow:global_step/sec: 19.6571\n",
      "INFO:tensorflow:loss = 1742.5256, step = 2701 (5.087 sec)\n",
      "INFO:tensorflow:global_step/sec: 23.554\n",
      "INFO:tensorflow:loss = 1550.0181, step = 2801 (4.246 sec)\n",
      "INFO:tensorflow:global_step/sec: 21.7831\n",
      "INFO:tensorflow:loss = 1836.5732, step = 2901 (4.591 sec)\n",
      "INFO:tensorflow:global_step/sec: 20.6196\n",
      "INFO:tensorflow:loss = 1593.89, step = 3001 (4.850 sec)\n",
      "INFO:tensorflow:global_step/sec: 23.6724\n",
      "INFO:tensorflow:loss = 1491.7686, step = 3101 (4.225 sec)\n",
      "INFO:tensorflow:global_step/sec: 23.5984\n",
      "INFO:tensorflow:loss = 1077.7283, step = 3201 (4.237 sec)\n",
      "INFO:tensorflow:global_step/sec: 20.0566\n",
      "INFO:tensorflow:loss = 1551.8109, step = 3301 (4.986 sec)\n",
      "INFO:tensorflow:global_step/sec: 23.126\n",
      "INFO:tensorflow:loss = 2077.9526, step = 3401 (4.324 sec)\n",
      "INFO:tensorflow:global_step/sec: 23.2736\n",
      "INFO:tensorflow:loss = 1243.1909, step = 3501 (4.297 sec)\n",
      "INFO:tensorflow:global_step/sec: 22.5857\n",
      "INFO:tensorflow:loss = 1495.5177, step = 3601 (4.428 sec)\n",
      "INFO:tensorflow:global_step/sec: 20.7274\n",
      "INFO:tensorflow:loss = 1452.5724, step = 3701 (4.825 sec)\n",
      "INFO:tensorflow:global_step/sec: 23.3626\n",
      "INFO:tensorflow:loss = 1530.354, step = 3801 (4.282 sec)\n",
      "INFO:tensorflow:global_step/sec: 22.6083\n",
      "INFO:tensorflow:loss = 1192.5775, step = 3901 (4.422 sec)\n",
      "INFO:tensorflow:global_step/sec: 20.7864\n",
      "INFO:tensorflow:loss = 1197.392, step = 4001 (4.811 sec)\n",
      "INFO:tensorflow:global_step/sec: 23.0225\n",
      "INFO:tensorflow:loss = 1061.2148, step = 4101 (4.343 sec)\n"
     ]
    }
   ],
   "source": [
    "tf.estimator.train_and_evaluate(model, train_spec, eval_spec)"
   ]
  },
  {
   "cell_type": "code",
   "execution_count": null,
   "metadata": {},
   "outputs": [],
   "source": []
  }
 ],
 "metadata": {
  "kernelspec": {
   "display_name": "Python 3",
   "language": "python",
   "name": "python3"
  },
  "language_info": {
   "codemirror_mode": {
    "name": "ipython",
    "version": 3
   },
   "file_extension": ".py",
   "mimetype": "text/x-python",
   "name": "python",
   "nbconvert_exporter": "python",
   "pygments_lexer": "ipython3",
   "version": "3.7.3"
  }
 },
 "nbformat": 4,
 "nbformat_minor": 2
}
